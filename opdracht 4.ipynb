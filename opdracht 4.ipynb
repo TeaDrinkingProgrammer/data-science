{
 "cells": [
  {
   "cell_type": "markdown",
   "metadata": {},
   "source": [
    "I have chosen for a dataset containing Steam game data.\n",
    "[Source for the dataset](https://www.kaggle.com/nikdavis/steam-store-games)"
   ]
  }
 ],
 "metadata": {
  "language_info": {
   "name": "python"
  },
  "orig_nbformat": 4
 },
 "nbformat": 4,
 "nbformat_minor": 2
}
