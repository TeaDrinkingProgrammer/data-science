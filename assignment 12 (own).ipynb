{
 "cells": [
  {
   "cell_type": "markdown",
   "metadata": {},
   "source": [
    "# Bivariate analysis on 3 numerical columns with 1 categorical columns"
   ]
  },
  {
   "cell_type": "code",
   "execution_count": 1,
   "metadata": {},
   "outputs": [],
   "source": [
    "import pandas as pd"
   ]
  },
  {
   "cell_type": "code",
   "execution_count": 2,
   "metadata": {},
   "outputs": [],
   "source": [
    "import seaborn as sns"
   ]
  },
  {
   "cell_type": "code",
   "execution_count": 3,
   "metadata": {},
   "outputs": [],
   "source": [
    "df = pd.read_csv('melbourne_housing_prices.csv', sep=',')"
   ]
  },
  {
   "cell_type": "code",
   "execution_count": 4,
   "metadata": {},
   "outputs": [
    {
     "data": {
      "text/html": [
       "<div>\n",
       "<style scoped>\n",
       "    .dataframe tbody tr th:only-of-type {\n",
       "        vertical-align: middle;\n",
       "    }\n",
       "\n",
       "    .dataframe tbody tr th {\n",
       "        vertical-align: top;\n",
       "    }\n",
       "\n",
       "    .dataframe thead th {\n",
       "        text-align: right;\n",
       "    }\n",
       "</style>\n",
       "<table border=\"1\" class=\"dataframe\">\n",
       "  <thead>\n",
       "    <tr style=\"text-align: right;\">\n",
       "      <th></th>\n",
       "      <th>Suburb</th>\n",
       "      <th>Address</th>\n",
       "      <th>Rooms</th>\n",
       "      <th>Type</th>\n",
       "      <th>Price</th>\n",
       "      <th>Method</th>\n",
       "      <th>SellerG</th>\n",
       "      <th>Date</th>\n",
       "      <th>Postcode</th>\n",
       "      <th>Regionname</th>\n",
       "      <th>Propertycount</th>\n",
       "      <th>Distance</th>\n",
       "      <th>CouncilArea</th>\n",
       "    </tr>\n",
       "  </thead>\n",
       "  <tbody>\n",
       "    <tr>\n",
       "      <th>0</th>\n",
       "      <td>Abbotsford</td>\n",
       "      <td>49 Lithgow St</td>\n",
       "      <td>3</td>\n",
       "      <td>h</td>\n",
       "      <td>1490000.0</td>\n",
       "      <td>S</td>\n",
       "      <td>Jellis</td>\n",
       "      <td>1/04/2017</td>\n",
       "      <td>3067</td>\n",
       "      <td>Northern Metropolitan</td>\n",
       "      <td>4019</td>\n",
       "      <td>3.0</td>\n",
       "      <td>Yarra City Council</td>\n",
       "    </tr>\n",
       "    <tr>\n",
       "      <th>1</th>\n",
       "      <td>Abbotsford</td>\n",
       "      <td>59A Turner St</td>\n",
       "      <td>3</td>\n",
       "      <td>h</td>\n",
       "      <td>1220000.0</td>\n",
       "      <td>S</td>\n",
       "      <td>Marshall</td>\n",
       "      <td>1/04/2017</td>\n",
       "      <td>3067</td>\n",
       "      <td>Northern Metropolitan</td>\n",
       "      <td>4019</td>\n",
       "      <td>3.0</td>\n",
       "      <td>Yarra City Council</td>\n",
       "    </tr>\n",
       "    <tr>\n",
       "      <th>2</th>\n",
       "      <td>Abbotsford</td>\n",
       "      <td>119B Yarra St</td>\n",
       "      <td>3</td>\n",
       "      <td>h</td>\n",
       "      <td>1420000.0</td>\n",
       "      <td>S</td>\n",
       "      <td>Nelson</td>\n",
       "      <td>1/04/2017</td>\n",
       "      <td>3067</td>\n",
       "      <td>Northern Metropolitan</td>\n",
       "      <td>4019</td>\n",
       "      <td>3.0</td>\n",
       "      <td>Yarra City Council</td>\n",
       "    </tr>\n",
       "    <tr>\n",
       "      <th>3</th>\n",
       "      <td>Aberfeldie</td>\n",
       "      <td>68 Vida St</td>\n",
       "      <td>3</td>\n",
       "      <td>h</td>\n",
       "      <td>1515000.0</td>\n",
       "      <td>S</td>\n",
       "      <td>Barry</td>\n",
       "      <td>1/04/2017</td>\n",
       "      <td>3040</td>\n",
       "      <td>Western Metropolitan</td>\n",
       "      <td>1543</td>\n",
       "      <td>7.5</td>\n",
       "      <td>Moonee Valley City Council</td>\n",
       "    </tr>\n",
       "    <tr>\n",
       "      <th>4</th>\n",
       "      <td>Airport West</td>\n",
       "      <td>92 Clydesdale Rd</td>\n",
       "      <td>2</td>\n",
       "      <td>h</td>\n",
       "      <td>670000.0</td>\n",
       "      <td>S</td>\n",
       "      <td>Nelson</td>\n",
       "      <td>1/04/2017</td>\n",
       "      <td>3042</td>\n",
       "      <td>Western Metropolitan</td>\n",
       "      <td>3464</td>\n",
       "      <td>10.4</td>\n",
       "      <td>Moonee Valley City Council</td>\n",
       "    </tr>\n",
       "  </tbody>\n",
       "</table>\n",
       "</div>"
      ],
      "text/plain": [
       "         Suburb           Address  Rooms Type      Price Method   SellerG  \\\n",
       "0    Abbotsford     49 Lithgow St      3    h  1490000.0      S    Jellis   \n",
       "1    Abbotsford     59A Turner St      3    h  1220000.0      S  Marshall   \n",
       "2    Abbotsford     119B Yarra St      3    h  1420000.0      S    Nelson   \n",
       "3    Aberfeldie        68 Vida St      3    h  1515000.0      S     Barry   \n",
       "4  Airport West  92 Clydesdale Rd      2    h   670000.0      S    Nelson   \n",
       "\n",
       "        Date  Postcode             Regionname  Propertycount  Distance  \\\n",
       "0  1/04/2017      3067  Northern Metropolitan           4019       3.0   \n",
       "1  1/04/2017      3067  Northern Metropolitan           4019       3.0   \n",
       "2  1/04/2017      3067  Northern Metropolitan           4019       3.0   \n",
       "3  1/04/2017      3040   Western Metropolitan           1543       7.5   \n",
       "4  1/04/2017      3042   Western Metropolitan           3464      10.4   \n",
       "\n",
       "                  CouncilArea  \n",
       "0          Yarra City Council  \n",
       "1          Yarra City Council  \n",
       "2          Yarra City Council  \n",
       "3  Moonee Valley City Council  \n",
       "4  Moonee Valley City Council  "
      ]
     },
     "execution_count": 4,
     "metadata": {},
     "output_type": "execute_result"
    }
   ],
   "source": [
    "df.head()"
   ]
  },
  {
   "cell_type": "markdown",
   "metadata": {},
   "source": [
    "I expect there to be a difference of the amount of rooms and price per region, as richer regions will have bigger houses (with more rooms) and higher prices and vice versa."
   ]
  },
  {
   "cell_type": "code",
   "execution_count": 5,
   "metadata": {},
   "outputs": [
    {
     "data": {
      "text/html": [
       "<div>\n",
       "<style scoped>\n",
       "    .dataframe tbody tr th:only-of-type {\n",
       "        vertical-align: middle;\n",
       "    }\n",
       "\n",
       "    .dataframe tbody tr th {\n",
       "        vertical-align: top;\n",
       "    }\n",
       "\n",
       "    .dataframe thead th {\n",
       "        text-align: right;\n",
       "    }\n",
       "</style>\n",
       "<table border=\"1\" class=\"dataframe\">\n",
       "  <thead>\n",
       "    <tr style=\"text-align: right;\">\n",
       "      <th></th>\n",
       "      <th>Rooms</th>\n",
       "      <th>Price</th>\n",
       "      <th>Postcode</th>\n",
       "      <th>Propertycount</th>\n",
       "      <th>Distance</th>\n",
       "    </tr>\n",
       "    <tr>\n",
       "      <th>Regionname</th>\n",
       "      <th></th>\n",
       "      <th></th>\n",
       "      <th></th>\n",
       "      <th></th>\n",
       "      <th></th>\n",
       "    </tr>\n",
       "  </thead>\n",
       "  <tbody>\n",
       "    <tr>\n",
       "      <th>Eastern Metropolitan</th>\n",
       "      <td>3.436129</td>\n",
       "      <td>1.071837e+06</td>\n",
       "      <td>3123.375337</td>\n",
       "      <td>6943.980954</td>\n",
       "      <td>15.396749</td>\n",
       "    </tr>\n",
       "    <tr>\n",
       "      <th>Eastern Victoria</th>\n",
       "      <td>3.560284</td>\n",
       "      <td>6.893688e+05</td>\n",
       "      <td>3503.820922</td>\n",
       "      <td>9147.015957</td>\n",
       "      <td>33.749291</td>\n",
       "    </tr>\n",
       "    <tr>\n",
       "      <th>Northern Metropolitan</th>\n",
       "      <td>2.922591</td>\n",
       "      <td>8.237198e+05</td>\n",
       "      <td>3097.344318</td>\n",
       "      <td>9386.327275</td>\n",
       "      <td>10.583338</td>\n",
       "    </tr>\n",
       "    <tr>\n",
       "      <th>Northern Victoria</th>\n",
       "      <td>3.559353</td>\n",
       "      <td>6.430822e+05</td>\n",
       "      <td>3458.339928</td>\n",
       "      <td>4374.142086</td>\n",
       "      <td>33.387410</td>\n",
       "    </tr>\n",
       "    <tr>\n",
       "      <th>South-Eastern Metropolitan</th>\n",
       "      <td>3.281082</td>\n",
       "      <td>8.462352e+05</td>\n",
       "      <td>3222.596124</td>\n",
       "      <td>6993.424597</td>\n",
       "      <td>24.457751</td>\n",
       "    </tr>\n",
       "    <tr>\n",
       "      <th>Southern Metropolitan</th>\n",
       "      <td>2.984168</td>\n",
       "      <td>1.373222e+06</td>\n",
       "      <td>3157.935873</td>\n",
       "      <td>7387.549177</td>\n",
       "      <td>8.910097</td>\n",
       "    </tr>\n",
       "    <tr>\n",
       "      <th>Western Metropolitan</th>\n",
       "      <td>3.158658</td>\n",
       "      <td>8.005163e+05</td>\n",
       "      <td>3038.528975</td>\n",
       "      <td>6458.604421</td>\n",
       "      <td>11.337399</td>\n",
       "    </tr>\n",
       "    <tr>\n",
       "      <th>Western Victoria</th>\n",
       "      <td>3.260504</td>\n",
       "      <td>4.120261e+05</td>\n",
       "      <td>3337.806723</td>\n",
       "      <td>4018.415966</td>\n",
       "      <td>31.125630</td>\n",
       "    </tr>\n",
       "  </tbody>\n",
       "</table>\n",
       "</div>"
      ],
      "text/plain": [
       "                               Rooms         Price     Postcode  \\\n",
       "Regionname                                                        \n",
       "Eastern Metropolitan        3.436129  1.071837e+06  3123.375337   \n",
       "Eastern Victoria            3.560284  6.893688e+05  3503.820922   \n",
       "Northern Metropolitan       2.922591  8.237198e+05  3097.344318   \n",
       "Northern Victoria           3.559353  6.430822e+05  3458.339928   \n",
       "South-Eastern Metropolitan  3.281082  8.462352e+05  3222.596124   \n",
       "Southern Metropolitan       2.984168  1.373222e+06  3157.935873   \n",
       "Western Metropolitan        3.158658  8.005163e+05  3038.528975   \n",
       "Western Victoria            3.260504  4.120261e+05  3337.806723   \n",
       "\n",
       "                            Propertycount   Distance  \n",
       "Regionname                                            \n",
       "Eastern Metropolitan          6943.980954  15.396749  \n",
       "Eastern Victoria              9147.015957  33.749291  \n",
       "Northern Metropolitan         9386.327275  10.583338  \n",
       "Northern Victoria             4374.142086  33.387410  \n",
       "South-Eastern Metropolitan    6993.424597  24.457751  \n",
       "Southern Metropolitan         7387.549177   8.910097  \n",
       "Western Metropolitan          6458.604421  11.337399  \n",
       "Western Victoria              4018.415966  31.125630  "
      ]
     },
     "execution_count": 5,
     "metadata": {},
     "output_type": "execute_result"
    }
   ],
   "source": [
    "df.groupby(by='Regionname').mean()"
   ]
  },
  {
   "cell_type": "markdown",
   "metadata": {},
   "source": [
    "There seem to be significant differences in the amount of rooms and price per region, as expected."
   ]
  },
  {
   "cell_type": "markdown",
   "metadata": {},
   "source": [
    "# Average price per region"
   ]
  },
  {
   "cell_type": "markdown",
   "metadata": {},
   "source": [
    "Let's see if there are significant price differences"
   ]
  },
  {
   "cell_type": "markdown",
   "metadata": {},
   "source": [
    "*Numbers are in millions (le6 = 6 zeros)*"
   ]
  },
  {
   "cell_type": "code",
   "execution_count": 6,
   "metadata": {},
   "outputs": [
    {
     "data": {
      "text/plain": [
       "[Text(0, 0, 'Northern Metropolitan'),\n",
       " Text(1, 0, 'Western Metropolitan'),\n",
       " Text(2, 0, 'Southern Metropolitan'),\n",
       " Text(3, 0, 'South-Eastern Metropolitan'),\n",
       " Text(4, 0, 'Eastern Metropolitan'),\n",
       " Text(5, 0, 'Northern Victoria'),\n",
       " Text(6, 0, 'Western Victoria'),\n",
       " Text(7, 0, 'Eastern Victoria')]"
      ]
     },
     "execution_count": 6,
     "metadata": {},
     "output_type": "execute_result"
    },
    {
     "data": {
      "image/png": "[encoded data removed]",
      "text/plain": [
       "<Figure size 432x288 with 1 Axes>"
      ]
     },
     "metadata": {},
     "output_type": "display_data"
    }
   ],
   "source": [
    "plot = sns.barplot(y=\"Price\",x=\"Regionname\",data=df)\n",
    "plot.set_xticklabels(plot.get_xticklabels(), rotation=45, horizontalalignment='right')"
   ]
  },
  {
   "cell_type": "markdown",
   "metadata": {},
   "source": [
    "There are large statistically significant differences. For example, Western Victoria is 3 times less expensive than Southern Metropolitan"
   ]
  },
  {
   "cell_type": "markdown",
   "metadata": {},
   "source": [
    "# Amount of average rooms per home per region"
   ]
  },
  {
   "cell_type": "markdown",
   "metadata": {},
   "source": [
    "Does the higher price also mean that the homes are bigger?"
   ]
  },
  {
   "cell_type": "code",
   "execution_count": 7,
   "metadata": {},
   "outputs": [
    {
     "data": {
      "text/html": [
       "<div>\n",
       "<style scoped>\n",
       "    .dataframe tbody tr th:only-of-type {\n",
       "        vertical-align: middle;\n",
       "    }\n",
       "\n",
       "    .dataframe tbody tr th {\n",
       "        vertical-align: top;\n",
       "    }\n",
       "\n",
       "    .dataframe thead th {\n",
       "        text-align: right;\n",
       "    }\n",
       "</style>\n",
       "<table border=\"1\" class=\"dataframe\">\n",
       "  <thead>\n",
       "    <tr style=\"text-align: right;\">\n",
       "      <th></th>\n",
       "      <th>Rooms</th>\n",
       "      <th>Price</th>\n",
       "      <th>Postcode</th>\n",
       "      <th>Propertycount</th>\n",
       "      <th>Distance</th>\n",
       "    </tr>\n",
       "    <tr>\n",
       "      <th>Regionname</th>\n",
       "      <th></th>\n",
       "      <th></th>\n",
       "      <th></th>\n",
       "      <th></th>\n",
       "      <th></th>\n",
       "    </tr>\n",
       "  </thead>\n",
       "  <tbody>\n",
       "    <tr>\n",
       "      <th>Eastern Metropolitan</th>\n",
       "      <td>3.436129</td>\n",
       "      <td>1.071837e+06</td>\n",
       "      <td>3123.375337</td>\n",
       "      <td>6943.980954</td>\n",
       "      <td>15.396749</td>\n",
       "    </tr>\n",
       "    <tr>\n",
       "      <th>Eastern Victoria</th>\n",
       "      <td>3.560284</td>\n",
       "      <td>6.893688e+05</td>\n",
       "      <td>3503.820922</td>\n",
       "      <td>9147.015957</td>\n",
       "      <td>33.749291</td>\n",
       "    </tr>\n",
       "    <tr>\n",
       "      <th>Northern Metropolitan</th>\n",
       "      <td>2.922591</td>\n",
       "      <td>8.237198e+05</td>\n",
       "      <td>3097.344318</td>\n",
       "      <td>9386.327275</td>\n",
       "      <td>10.583338</td>\n",
       "    </tr>\n",
       "    <tr>\n",
       "      <th>Northern Victoria</th>\n",
       "      <td>3.559353</td>\n",
       "      <td>6.430822e+05</td>\n",
       "      <td>3458.339928</td>\n",
       "      <td>4374.142086</td>\n",
       "      <td>33.387410</td>\n",
       "    </tr>\n",
       "    <tr>\n",
       "      <th>South-Eastern Metropolitan</th>\n",
       "      <td>3.281082</td>\n",
       "      <td>8.462352e+05</td>\n",
       "      <td>3222.596124</td>\n",
       "      <td>6993.424597</td>\n",
       "      <td>24.457751</td>\n",
       "    </tr>\n",
       "    <tr>\n",
       "      <th>Southern Metropolitan</th>\n",
       "      <td>2.984168</td>\n",
       "      <td>1.373222e+06</td>\n",
       "      <td>3157.935873</td>\n",
       "      <td>7387.549177</td>\n",
       "      <td>8.910097</td>\n",
       "    </tr>\n",
       "    <tr>\n",
       "      <th>Western Metropolitan</th>\n",
       "      <td>3.158658</td>\n",
       "      <td>8.005163e+05</td>\n",
       "      <td>3038.528975</td>\n",
       "      <td>6458.604421</td>\n",
       "      <td>11.337399</td>\n",
       "    </tr>\n",
       "    <tr>\n",
       "      <th>Western Victoria</th>\n",
       "      <td>3.260504</td>\n",
       "      <td>4.120261e+05</td>\n",
       "      <td>3337.806723</td>\n",
       "      <td>4018.415966</td>\n",
       "      <td>31.125630</td>\n",
       "    </tr>\n",
       "  </tbody>\n",
       "</table>\n",
       "</div>"
      ],
      "text/plain": [
       "                               Rooms         Price     Postcode  \\\n",
       "Regionname                                                        \n",
       "Eastern Metropolitan        3.436129  1.071837e+06  3123.375337   \n",
       "Eastern Victoria            3.560284  6.893688e+05  3503.820922   \n",
       "Northern Metropolitan       2.922591  8.237198e+05  3097.344318   \n",
       "Northern Victoria           3.559353  6.430822e+05  3458.339928   \n",
       "South-Eastern Metropolitan  3.281082  8.462352e+05  3222.596124   \n",
       "Southern Metropolitan       2.984168  1.373222e+06  3157.935873   \n",
       "Western Metropolitan        3.158658  8.005163e+05  3038.528975   \n",
       "Western Victoria            3.260504  4.120261e+05  3337.806723   \n",
       "\n",
       "                            Propertycount   Distance  \n",
       "Regionname                                            \n",
       "Eastern Metropolitan          6943.980954  15.396749  \n",
       "Eastern Victoria              9147.015957  33.749291  \n",
       "Northern Metropolitan         9386.327275  10.583338  \n",
       "Northern Victoria             4374.142086  33.387410  \n",
       "South-Eastern Metropolitan    6993.424597  24.457751  \n",
       "Southern Metropolitan         7387.549177   8.910097  \n",
       "Western Metropolitan          6458.604421  11.337399  \n",
       "Western Victoria              4018.415966  31.125630  "
      ]
     },
     "execution_count": 7,
     "metadata": {},
     "output_type": "execute_result"
    }
   ],
   "source": [
    "df.groupby(by='Regionname').mean()"
   ]
  },
  {
   "cell_type": "markdown",
   "metadata": {},
   "source": [
    "It seems that there aren't significant differences and there are also to many sellers to put them in a barplot"
   ]
  },
  {
   "cell_type": "code",
   "execution_count": 8,
   "metadata": {},
   "outputs": [
    {
     "data": {
      "text/plain": [
       "[Text(0, 0, 'Northern Metropolitan'),\n",
       " Text(1, 0, 'Western Metropolitan'),\n",
       " Text(2, 0, 'Southern Metropolitan'),\n",
       " Text(3, 0, 'South-Eastern Metropolitan'),\n",
       " Text(4, 0, 'Eastern Metropolitan'),\n",
       " Text(5, 0, 'Northern Victoria'),\n",
       " Text(6, 0, 'Western Victoria'),\n",
       " Text(7, 0, 'Eastern Victoria')]"
      ]
     },
     "execution_count": 8,
     "metadata": {},
     "output_type": "execute_result"
    },
    {
     "data": {
      "image/png": "[encoded data removed]",
      "text/plain": [
       "<Figure size 432x288 with 1 Axes>"
      ]
     },
     "metadata": {},
     "output_type": "display_data"
    }
   ],
   "source": [
    "plot = sns.barplot(y=\"Rooms\",x=\"Regionname\",data=df)\n",
    "plot.set_xticklabels(plot.get_xticklabels(), rotation=45, horizontalalignment='right')"
   ]
  },
  {
   "cell_type": "markdown",
   "metadata": {},
   "source": [
    "It seems that houses everywhere in Melbourne that are being sold are about the same size: 3 rooms. That's quite small. Only Victoria jumps out as having slightly larger homes with homes nearing 3.5 rooms on average."
   ]
  },
  {
   "cell_type": "markdown",
   "metadata": {},
   "source": [
    "# Amount of homes sold per region"
   ]
  },
  {
   "cell_type": "markdown",
   "metadata": {},
   "source": [
    "Let's now see where most homes are being sold."
   ]
  },
  {
   "cell_type": "code",
   "execution_count": 9,
   "metadata": {},
   "outputs": [
    {
     "data": {
      "text/html": [
       "<div>\n",
       "<style scoped>\n",
       "    .dataframe tbody tr th:only-of-type {\n",
       "        vertical-align: middle;\n",
       "    }\n",
       "\n",
       "    .dataframe tbody tr th {\n",
       "        vertical-align: top;\n",
       "    }\n",
       "\n",
       "    .dataframe thead th {\n",
       "        text-align: right;\n",
       "    }\n",
       "</style>\n",
       "<table border=\"1\" class=\"dataframe\">\n",
       "  <thead>\n",
       "    <tr style=\"text-align: right;\">\n",
       "      <th></th>\n",
       "      <th>Rooms</th>\n",
       "      <th>Price</th>\n",
       "      <th>Postcode</th>\n",
       "      <th>Propertycount</th>\n",
       "      <th>Distance</th>\n",
       "    </tr>\n",
       "    <tr>\n",
       "      <th>Regionname</th>\n",
       "      <th></th>\n",
       "      <th></th>\n",
       "      <th></th>\n",
       "      <th></th>\n",
       "      <th></th>\n",
       "    </tr>\n",
       "  </thead>\n",
       "  <tbody>\n",
       "    <tr>\n",
       "      <th>Eastern Metropolitan</th>\n",
       "      <td>3.436129</td>\n",
       "      <td>1.071837e+06</td>\n",
       "      <td>3123.375337</td>\n",
       "      <td>6943.980954</td>\n",
       "      <td>15.396749</td>\n",
       "    </tr>\n",
       "    <tr>\n",
       "      <th>Eastern Victoria</th>\n",
       "      <td>3.560284</td>\n",
       "      <td>6.893688e+05</td>\n",
       "      <td>3503.820922</td>\n",
       "      <td>9147.015957</td>\n",
       "      <td>33.749291</td>\n",
       "    </tr>\n",
       "    <tr>\n",
       "      <th>Northern Metropolitan</th>\n",
       "      <td>2.922591</td>\n",
       "      <td>8.237198e+05</td>\n",
       "      <td>3097.344318</td>\n",
       "      <td>9386.327275</td>\n",
       "      <td>10.583338</td>\n",
       "    </tr>\n",
       "    <tr>\n",
       "      <th>Northern Victoria</th>\n",
       "      <td>3.559353</td>\n",
       "      <td>6.430822e+05</td>\n",
       "      <td>3458.339928</td>\n",
       "      <td>4374.142086</td>\n",
       "      <td>33.387410</td>\n",
       "    </tr>\n",
       "    <tr>\n",
       "      <th>South-Eastern Metropolitan</th>\n",
       "      <td>3.281082</td>\n",
       "      <td>8.462352e+05</td>\n",
       "      <td>3222.596124</td>\n",
       "      <td>6993.424597</td>\n",
       "      <td>24.457751</td>\n",
       "    </tr>\n",
       "    <tr>\n",
       "      <th>Southern Metropolitan</th>\n",
       "      <td>2.984168</td>\n",
       "      <td>1.373222e+06</td>\n",
       "      <td>3157.935873</td>\n",
       "      <td>7387.549177</td>\n",
       "      <td>8.910097</td>\n",
       "    </tr>\n",
       "    <tr>\n",
       "      <th>Western Metropolitan</th>\n",
       "      <td>3.158658</td>\n",
       "      <td>8.005163e+05</td>\n",
       "      <td>3038.528975</td>\n",
       "      <td>6458.604421</td>\n",
       "      <td>11.337399</td>\n",
       "    </tr>\n",
       "    <tr>\n",
       "      <th>Western Victoria</th>\n",
       "      <td>3.260504</td>\n",
       "      <td>4.120261e+05</td>\n",
       "      <td>3337.806723</td>\n",
       "      <td>4018.415966</td>\n",
       "      <td>31.125630</td>\n",
       "    </tr>\n",
       "  </tbody>\n",
       "</table>\n",
       "</div>"
      ],
      "text/plain": [
       "                               Rooms         Price     Postcode  \\\n",
       "Regionname                                                        \n",
       "Eastern Metropolitan        3.436129  1.071837e+06  3123.375337   \n",
       "Eastern Victoria            3.560284  6.893688e+05  3503.820922   \n",
       "Northern Metropolitan       2.922591  8.237198e+05  3097.344318   \n",
       "Northern Victoria           3.559353  6.430822e+05  3458.339928   \n",
       "South-Eastern Metropolitan  3.281082  8.462352e+05  3222.596124   \n",
       "Southern Metropolitan       2.984168  1.373222e+06  3157.935873   \n",
       "Western Metropolitan        3.158658  8.005163e+05  3038.528975   \n",
       "Western Victoria            3.260504  4.120261e+05  3337.806723   \n",
       "\n",
       "                            Propertycount   Distance  \n",
       "Regionname                                            \n",
       "Eastern Metropolitan          6943.980954  15.396749  \n",
       "Eastern Victoria              9147.015957  33.749291  \n",
       "Northern Metropolitan         9386.327275  10.583338  \n",
       "Northern Victoria             4374.142086  33.387410  \n",
       "South-Eastern Metropolitan    6993.424597  24.457751  \n",
       "Southern Metropolitan         7387.549177   8.910097  \n",
       "Western Metropolitan          6458.604421  11.337399  \n",
       "Western Victoria              4018.415966  31.125630  "
      ]
     },
     "execution_count": 9,
     "metadata": {},
     "output_type": "execute_result"
    }
   ],
   "source": [
    "df.groupby(by='Regionname').mean()"
   ]
  },
  {
   "cell_type": "markdown",
   "metadata": {},
   "source": [
    "Seems there are large differences. Let's see in detail."
   ]
  },
  {
   "cell_type": "code",
   "execution_count": 10,
   "metadata": {},
   "outputs": [
    {
     "data": {
      "text/plain": [
       "[Text(0, 0, 'Northern Metropolitan'),\n",
       " Text(1, 0, 'Western Metropolitan'),\n",
       " Text(2, 0, 'Southern Metropolitan'),\n",
       " Text(3, 0, 'South-Eastern Metropolitan'),\n",
       " Text(4, 0, 'Eastern Metropolitan'),\n",
       " Text(5, 0, 'Northern Victoria'),\n",
       " Text(6, 0, 'Western Victoria'),\n",
       " Text(7, 0, 'Eastern Victoria')]"
      ]
     },
     "execution_count": 10,
     "metadata": {},
     "output_type": "execute_result"
    },
    {
     "data": {
      "image/png": "[encoded data removed]",
      "text/plain": [
       "<Figure size 432x288 with 1 Axes>"
      ]
     },
     "metadata": {},
     "output_type": "display_data"
    }
   ],
   "source": [
    "plot = sns.barplot(y=\"Propertycount\",x=\"Regionname\",data=df)\n",
    "plot.set_xticklabels(plot.get_xticklabels(), rotation=45, horizontalalignment='right')"
   ]
  },
  {
   "cell_type": "markdown",
   "metadata": {},
   "source": [
    "There are indeed very large differences between regions. Eastern Victoria and Northern Metropolitan are especially hot markets."
   ]
  }
 ],
 "metadata": {
  "interpreter": {
   "hash": "dade5c64266412dac4e485e5d511f19ec86909a3f4b4bbd7c64cf788437fc9ff"
  },
  "kernelspec": {
   "display_name": "Python 3.9.7 ('base')",
   "language": "python",
   "name": "python3"
  },
  "language_info": {
   "codemirror_mode": {
    "name": "ipython",
    "version": 3
   },
   "file_extension": ".py",
   "mimetype": "text/x-python",
   "name": "python",
   "nbconvert_exporter": "python",
   "pygments_lexer": "ipython3",
   "version": "3.9.7"
  },
  "orig_nbformat": 4
 },
 "nbformat": 4,
 "nbformat_minor": 2
}
