{
 "cells": [
  {
   "cell_type": "code",
   "execution_count": 2,
   "metadata": {},
   "outputs": [],
   "source": [
    "import pandas as pd"
   ]
  },
  {
   "cell_type": "code",
   "execution_count": 1,
   "metadata": {},
   "outputs": [],
   "source": [
    "import seaborn as sns\n",
    "\n",
    "sns.set_style(\"dark\")"
   ]
  },
  {
   "cell_type": "code",
   "execution_count": 3,
   "metadata": {},
   "outputs": [],
   "source": [
    "df = pd.read_csv('steam.csv', sep=',')"
   ]
  },
  {
   "cell_type": "code",
   "execution_count": 4,
   "metadata": {},
   "outputs": [],
   "source": [
    "df.pop('appid')\n",
    "# Convert english too boolean\n",
    "df['english'] = df['english'].astype('bool')\n",
    "# set release date to datetime\n",
    "df['release_date'] = pd.to_datetime(df['release_date'])\n",
    "# create 3 seperate platform fields instead of 1\n",
    "df['windows'], df['mac'], df['linux'] = df['platforms'].apply(lambda x: 'windows' in x),df['platforms'].apply(lambda x: 'mac' in x),df['platforms'].apply(lambda x: 'linux' in x)\n",
    "# Split owners categorical value in two numerical values\n",
    "df['owners_low'] = df['owners'].apply(lambda x: x.split('-')[0]).astype('int')\n",
    "df['owners_high'] = df['owners'].apply(lambda x: x.split('-')[1]).astype('int')\n",
    "# Create int out of data column\n",
    "df['release_year'] = df['release_date'].dt.year\n",
    "genres = df['genres'].apply(lambda x: x.split(';')[0])"
   ]
  },
  {
   "cell_type": "code",
   "execution_count": null,
   "metadata": {},
   "outputs": [],
   "source": [
    "medianPlaytimeFilter = df['median_playtime']> 0.5\n",
    "ownersFilter = df['owners_low'] > 20000 #lowest range above 0\n",
    "noFreeGameFilter = df['price'] > 0.1\n",
    "reviewFilter = df['positive_ratings'] > 5"
   ]
  },
  {
   "cell_type": "code",
   "execution_count": 5,
   "metadata": {},
   "outputs": [
    {
     "name": "stdout",
     "output_type": "stream",
     "text": [
      "<class 'pandas.core.frame.DataFrame'>\n",
      "RangeIndex: 27075 entries, 0 to 27074\n",
      "Data columns (total 23 columns):\n",
      " #   Column            Non-Null Count  Dtype         \n",
      "---  ------            --------------  -----         \n",
      " 0   name              27075 non-null  object        \n",
      " 1   release_date      27075 non-null  datetime64[ns]\n",
      " 2   english           27075 non-null  bool          \n",
      " 3   developer         27075 non-null  object        \n",
      " 4   publisher         27075 non-null  object        \n",
      " 5   platforms         27075 non-null  object        \n",
      " 6   required_age      27075 non-null  int64         \n",
      " 7   categories        27075 non-null  object        \n",
      " 8   genres            27075 non-null  object        \n",
      " 9   steamspy_tags     27075 non-null  object        \n",
      " 10  achievements      27075 non-null  int64         \n",
      " 11  positive_ratings  27075 non-null  int64         \n",
      " 12  negative_ratings  27075 non-null  int64         \n",
      " 13  average_playtime  27075 non-null  int64         \n",
      " 14  median_playtime   27075 non-null  int64         \n",
      " 15  owners            27075 non-null  object        \n",
      " 16  price             27075 non-null  float64       \n",
      " 17  windows           27075 non-null  bool          \n",
      " 18  mac               27075 non-null  bool          \n",
      " 19  linux             27075 non-null  bool          \n",
      " 20  owners_low        27075 non-null  int32         \n",
      " 21  owners_high       27075 non-null  int32         \n",
      " 22  release_year      27075 non-null  int64         \n",
      "dtypes: bool(4), datetime64[ns](1), float64(1), int32(2), int64(7), object(8)\n",
      "memory usage: 3.8+ MB\n"
     ]
    }
   ],
   "source": [
    "df.info()"
   ]
  },
  {
   "cell_type": "markdown",
   "metadata": {},
   "source": [
    "# The most expensive games"
   ]
  },
  {
   "cell_type": "code",
   "execution_count": 6,
   "metadata": {},
   "outputs": [
    {
     "ename": "NameError",
     "evalue": "name 'medianPlaytimeFilter' is not defined",
     "output_type": "error",
     "traceback": [
      "\u001b[1;31m---------------------------------------------------------------------------\u001b[0m",
      "\u001b[1;31mNameError\u001b[0m                                 Traceback (most recent call last)",
      "\u001b[1;32m~\\AppData\\Local\\Temp/ipykernel_15472/2212486919.py\u001b[0m in \u001b[0;36m<module>\u001b[1;34m\u001b[0m\n\u001b[1;32m----> 1\u001b[1;33m \u001b[0mdf\u001b[0m\u001b[1;33m[\u001b[0m\u001b[0mmedianPlaytimeFilter\u001b[0m\u001b[1;33m]\u001b[0m\u001b[1;33m[\u001b[0m\u001b[1;33m[\u001b[0m\u001b[1;34m'name'\u001b[0m\u001b[1;33m,\u001b[0m\u001b[1;34m'price'\u001b[0m\u001b[1;33m]\u001b[0m\u001b[1;33m]\u001b[0m\u001b[1;33m.\u001b[0m\u001b[0msort_values\u001b[0m\u001b[1;33m(\u001b[0m\u001b[1;34m'price'\u001b[0m\u001b[1;33m,\u001b[0m\u001b[0mascending\u001b[0m\u001b[1;33m=\u001b[0m\u001b[1;32mFalse\u001b[0m\u001b[1;33m)\u001b[0m\u001b[1;33m.\u001b[0m\u001b[0mhead\u001b[0m\u001b[1;33m(\u001b[0m\u001b[1;36m10\u001b[0m\u001b[1;33m)\u001b[0m\u001b[1;33m\u001b[0m\u001b[1;33m\u001b[0m\u001b[0m\n\u001b[0m",
      "\u001b[1;31mNameError\u001b[0m: name 'medianPlaytimeFilter' is not defined"
     ]
    }
   ],
   "source": [
    "df[medianPlaytimeFilter][['name','price']].sort_values('price',ascending=False).head(10)"
   ]
  },
  {
   "cell_type": "code",
   "execution_count": null,
   "metadata": {},
   "outputs": [
    {
     "name": "stderr",
     "output_type": "stream",
     "text": [
      "C:\\Users\\Stijn\\AppData\\Local\\Temp/ipykernel_9580/1183673222.py:1: UserWarning: Boolean Series key will be reindexed to match DataFrame index.\n",
      "  series = df[df['positive_ratings'] > 5][medianPlaytimeFilter]['developer'].value_counts()\n"
     ]
    },
    {
     "data": {
      "text/plain": [
       "Valve                                     26\n",
       "EnsenaSoft                                26\n",
       "Winged Cloud                              17\n",
       "Square Enix                               17\n",
       "Daedalic Entertainment                    17\n",
       "                                          ..\n",
       "IMGN.PRO                                   1\n",
       "Autumn Moon                                1\n",
       "Lord Kres                                  1\n",
       "Acido Cinza                                1\n",
       "Beijing Litchi Culture Media Co., Ltd.     1\n",
       "Name: developer, Length: 4077, dtype: int64"
      ]
     },
     "metadata": {},
     "output_type": "display_data"
    }
   ],
   "source": [
    "series = df[df['positive_ratings'] > 5][medianPlaytimeFilter]['developer'].value_counts()\n",
    "series.where(lambda x :  0 < x).dropna()"
   ]
  },
  {
   "cell_type": "code",
   "execution_count": null,
   "metadata": {},
   "outputs": [
    {
     "name": "stderr",
     "output_type": "stream",
     "text": [
      "C:\\Users\\Stijn\\AppData\\Local\\Temp/ipykernel_9580/70254092.py:1: UserWarning: Boolean Series key will be reindexed to match DataFrame index.\n",
      "  df[df['positive_ratings'] > 5][medianPlaytimeFilter]['required_age'].value_counts()\n"
     ]
    },
    {
     "data": {
      "text/plain": [
       "0     5796\n",
       "18     186\n",
       "16     116\n",
       "12      24\n",
       "7        4\n",
       "3        3\n",
       "Name: required_age, dtype: int64"
      ]
     },
     "metadata": {},
     "output_type": "display_data"
    }
   ],
   "source": [
    "df[df['positive_ratings'] > 5][medianPlaytimeFilter]['required_age'].value_counts()"
   ]
  },
  {
   "cell_type": "markdown",
   "metadata": {},
   "source": [
    "# Number of paid and free games"
   ]
  },
  {
   "cell_type": "code",
   "execution_count": null,
   "metadata": {},
   "outputs": [
    {
     "name": "stderr",
     "output_type": "stream",
     "text": [
      "C:\\Users\\Stijn\\AppData\\Local\\Temp/ipykernel_9580/1283793119.py:1: UserWarning: Boolean Series key will be reindexed to match DataFrame index.\n",
      "  df[noFreeGameFilter][df['price'] < 200][ownersFilter][medianPlaytimeFilter]['price'].count() , df[df['price'] < 200][ownersFilter][medianPlaytimeFilter]['price'].count()\n"
     ]
    },
    {
     "data": {
      "text/plain": [
       "(3616, 4351)"
      ]
     },
     "metadata": {},
     "output_type": "display_data"
    }
   ],
   "source": [
    "df[noFreeGameFilter][df['price'] < 200][ownersFilter][medianPlaytimeFilter]['price'].count() , df[df['price'] < 200][ownersFilter][medianPlaytimeFilter]['price'].count()"
   ]
  },
  {
   "cell_type": "markdown",
   "metadata": {},
   "source": [
    "# Amount of games per year after 2005"
   ]
  },
  {
   "cell_type": "code",
   "execution_count": null,
   "metadata": {},
   "outputs": [
    {
     "name": "stderr",
     "output_type": "stream",
     "text": [
      "C:\\Users\\Stijn\\AppData\\Local\\Temp/ipykernel_9580/4157551761.py:1: UserWarning: Boolean Series key will be reindexed to match DataFrame index.\n",
      "  df[df['release_year'] > 2005][df['positive_ratings'] > 5]['release_year'].value_counts().sort_values().plot(kind='bar')\n"
     ]
    },
    {
     "data": {
      "text/plain": [
       "<AxesSubplot:>"
      ]
     },
     "metadata": {},
     "output_type": "display_data"
    },
    {
     "data": {
      "image/png": "[encoded data removed]",
      "text/plain": [
       "<Figure size 432x288 with 1 Axes>"
      ]
     },
     "metadata": {},
     "output_type": "display_data"
    }
   ],
   "source": [
    "df[df['release_year'] > 2005][df['positive_ratings'] > 5]['release_year'].value_counts().sort_values().plot(kind='bar')"
   ]
  },
  {
   "cell_type": "markdown",
   "metadata": {},
   "source": [
    "# Amount of games that were played for longer than 30 hours"
   ]
  },
  {
   "cell_type": "code",
   "execution_count": null,
   "metadata": {},
   "outputs": [
    {
     "name": "stderr",
     "output_type": "stream",
     "text": [
      "C:\\Users\\Stijn\\AppData\\Local\\Temp/ipykernel_9580/3507090343.py:1: UserWarning: Boolean Series key will be reindexed to match DataFrame index.\n",
      "  df[df['owners_low'] > 50000][df['median_playtime']> 30]['release_year'].value_counts().sort_values().plot(kind='bar')\n"
     ]
    },
    {
     "data": {
      "text/plain": [
       "<AxesSubplot:>"
      ]
     },
     "metadata": {},
     "output_type": "display_data"
    },
    {
     "data": {
      "image/png": "[encoded data removed]",
      "text/plain": [
       "<Figure size 432x288 with 1 Axes>"
      ]
     },
     "metadata": {},
     "output_type": "display_data"
    }
   ],
   "source": [
    "df[ownersFilter][medianPlaytimeFilter]['release_year'].value_counts().sort_values().plot(kind='bar')"
   ]
  },
  {
   "cell_type": "markdown",
   "metadata": {},
   "source": [
    "# Most positively reviewed games"
   ]
  },
  {
   "cell_type": "code",
   "execution_count": null,
   "metadata": {},
   "outputs": [
    {
     "data": {
      "text/html": [
       "<div>\n",
       "<style scoped>\n",
       "    .dataframe tbody tr th:only-of-type {\n",
       "        vertical-align: middle;\n",
       "    }\n",
       "\n",
       "    .dataframe tbody tr th {\n",
       "        vertical-align: top;\n",
       "    }\n",
       "\n",
       "    .dataframe thead th {\n",
       "        text-align: right;\n",
       "    }\n",
       "</style>\n",
       "<table border=\"1\" class=\"dataframe\">\n",
       "  <thead>\n",
       "    <tr style=\"text-align: right;\">\n",
       "      <th></th>\n",
       "      <th>name</th>\n",
       "      <th>release_date</th>\n",
       "      <th>english</th>\n",
       "      <th>developer</th>\n",
       "      <th>publisher</th>\n",
       "      <th>platforms</th>\n",
       "      <th>required_age</th>\n",
       "      <th>categories</th>\n",
       "      <th>genres</th>\n",
       "      <th>steamspy_tags</th>\n",
       "      <th>...</th>\n",
       "      <th>average_playtime</th>\n",
       "      <th>median_playtime</th>\n",
       "      <th>owners</th>\n",
       "      <th>price</th>\n",
       "      <th>windows</th>\n",
       "      <th>mac</th>\n",
       "      <th>linux</th>\n",
       "      <th>owners_low</th>\n",
       "      <th>owners_high</th>\n",
       "      <th>release_year</th>\n",
       "    </tr>\n",
       "  </thead>\n",
       "  <tbody>\n",
       "    <tr>\n",
       "      <th>25</th>\n",
       "      <td>Counter-Strike: Global Offensive</td>\n",
       "      <td>2012-08-21</td>\n",
       "      <td>True</td>\n",
       "      <td>Valve;Hidden Path Entertainment</td>\n",
       "      <td>Valve</td>\n",
       "      <td>windows;mac;linux</td>\n",
       "      <td>0</td>\n",
       "      <td>Multi-player;Steam Achievements;Full controlle...</td>\n",
       "      <td>Action;Free to Play</td>\n",
       "      <td>FPS;Multiplayer;Shooter</td>\n",
       "      <td>...</td>\n",
       "      <td>22494</td>\n",
       "      <td>6502</td>\n",
       "      <td>50000000-100000000</td>\n",
       "      <td>0.00</td>\n",
       "      <td>True</td>\n",
       "      <td>True</td>\n",
       "      <td>True</td>\n",
       "      <td>50000000</td>\n",
       "      <td>100000000</td>\n",
       "      <td>2012</td>\n",
       "    </tr>\n",
       "    <tr>\n",
       "      <th>22</th>\n",
       "      <td>Dota 2</td>\n",
       "      <td>2013-07-09</td>\n",
       "      <td>True</td>\n",
       "      <td>Valve</td>\n",
       "      <td>Valve</td>\n",
       "      <td>windows;mac;linux</td>\n",
       "      <td>0</td>\n",
       "      <td>Multi-player;Co-op;Steam Trading Cards;Steam W...</td>\n",
       "      <td>Action;Free to Play;Strategy</td>\n",
       "      <td>Free to Play;MOBA;Strategy</td>\n",
       "      <td>...</td>\n",
       "      <td>23944</td>\n",
       "      <td>801</td>\n",
       "      <td>100000000-200000000</td>\n",
       "      <td>0.00</td>\n",
       "      <td>True</td>\n",
       "      <td>True</td>\n",
       "      <td>True</td>\n",
       "      <td>100000000</td>\n",
       "      <td>200000000</td>\n",
       "      <td>2013</td>\n",
       "    </tr>\n",
       "    <tr>\n",
       "      <th>19</th>\n",
       "      <td>Team Fortress 2</td>\n",
       "      <td>2007-10-10</td>\n",
       "      <td>True</td>\n",
       "      <td>Valve</td>\n",
       "      <td>Valve</td>\n",
       "      <td>windows;mac;linux</td>\n",
       "      <td>0</td>\n",
       "      <td>Multi-player;Cross-Platform Multiplayer;Steam ...</td>\n",
       "      <td>Action;Free to Play</td>\n",
       "      <td>Free to Play;Multiplayer;FPS</td>\n",
       "      <td>...</td>\n",
       "      <td>8495</td>\n",
       "      <td>623</td>\n",
       "      <td>20000000-50000000</td>\n",
       "      <td>0.00</td>\n",
       "      <td>True</td>\n",
       "      <td>True</td>\n",
       "      <td>True</td>\n",
       "      <td>20000000</td>\n",
       "      <td>50000000</td>\n",
       "      <td>2007</td>\n",
       "    </tr>\n",
       "    <tr>\n",
       "      <th>12836</th>\n",
       "      <td>PLAYERUNKNOWN'S BATTLEGROUNDS</td>\n",
       "      <td>2017-12-21</td>\n",
       "      <td>True</td>\n",
       "      <td>PUBG Corporation</td>\n",
       "      <td>PUBG Corporation</td>\n",
       "      <td>windows</td>\n",
       "      <td>0</td>\n",
       "      <td>Multi-player;Online Multi-Player;Stats</td>\n",
       "      <td>Action;Adventure;Massively Multiplayer</td>\n",
       "      <td>Survival;Shooter;Multiplayer</td>\n",
       "      <td>...</td>\n",
       "      <td>22938</td>\n",
       "      <td>12434</td>\n",
       "      <td>50000000-100000000</td>\n",
       "      <td>26.99</td>\n",
       "      <td>True</td>\n",
       "      <td>False</td>\n",
       "      <td>False</td>\n",
       "      <td>50000000</td>\n",
       "      <td>100000000</td>\n",
       "      <td>2017</td>\n",
       "    </tr>\n",
       "    <tr>\n",
       "      <th>121</th>\n",
       "      <td>Garry's Mod</td>\n",
       "      <td>2006-11-29</td>\n",
       "      <td>True</td>\n",
       "      <td>Facepunch Studios</td>\n",
       "      <td>Valve</td>\n",
       "      <td>windows;mac;linux</td>\n",
       "      <td>0</td>\n",
       "      <td>Single-player;Multi-player;Co-op;Cross-Platfor...</td>\n",
       "      <td>Indie;Simulation</td>\n",
       "      <td>Sandbox;Multiplayer;Funny</td>\n",
       "      <td>...</td>\n",
       "      <td>12422</td>\n",
       "      <td>1875</td>\n",
       "      <td>10000000-20000000</td>\n",
       "      <td>6.99</td>\n",
       "      <td>True</td>\n",
       "      <td>True</td>\n",
       "      <td>True</td>\n",
       "      <td>10000000</td>\n",
       "      <td>20000000</td>\n",
       "      <td>2006</td>\n",
       "    </tr>\n",
       "    <tr>\n",
       "      <th>2478</th>\n",
       "      <td>Grand Theft Auto V</td>\n",
       "      <td>2015-04-13</td>\n",
       "      <td>True</td>\n",
       "      <td>Rockstar North</td>\n",
       "      <td>Rockstar Games</td>\n",
       "      <td>windows</td>\n",
       "      <td>18</td>\n",
       "      <td>Single-player;Multi-player;Steam Achievements;...</td>\n",
       "      <td>Action;Adventure</td>\n",
       "      <td>Open World;Action;Multiplayer</td>\n",
       "      <td>...</td>\n",
       "      <td>9837</td>\n",
       "      <td>4834</td>\n",
       "      <td>10000000-20000000</td>\n",
       "      <td>24.99</td>\n",
       "      <td>True</td>\n",
       "      <td>False</td>\n",
       "      <td>False</td>\n",
       "      <td>10000000</td>\n",
       "      <td>20000000</td>\n",
       "      <td>2015</td>\n",
       "    </tr>\n",
       "    <tr>\n",
       "      <th>1467</th>\n",
       "      <td>PAYDAY 2</td>\n",
       "      <td>2013-08-13</td>\n",
       "      <td>True</td>\n",
       "      <td>OVERKILL - a Starbreeze Studio.</td>\n",
       "      <td>Starbreeze Publishing AB</td>\n",
       "      <td>windows;linux</td>\n",
       "      <td>18</td>\n",
       "      <td>Single-player;Multi-player;Co-op;Online Co-op;...</td>\n",
       "      <td>Action;RPG</td>\n",
       "      <td>Co-op;Action;FPS</td>\n",
       "      <td>...</td>\n",
       "      <td>3975</td>\n",
       "      <td>890</td>\n",
       "      <td>10000000-20000000</td>\n",
       "      <td>7.49</td>\n",
       "      <td>True</td>\n",
       "      <td>False</td>\n",
       "      <td>True</td>\n",
       "      <td>10000000</td>\n",
       "      <td>20000000</td>\n",
       "      <td>2013</td>\n",
       "    </tr>\n",
       "    <tr>\n",
       "      <th>3362</th>\n",
       "      <td>Unturned</td>\n",
       "      <td>2017-07-07</td>\n",
       "      <td>True</td>\n",
       "      <td>Smartly Dressed Games</td>\n",
       "      <td>Smartly Dressed Games</td>\n",
       "      <td>windows;mac;linux</td>\n",
       "      <td>0</td>\n",
       "      <td>Single-player;Online Multi-Player;Online Co-op...</td>\n",
       "      <td>Action;Adventure;Casual;Free to Play;Indie</td>\n",
       "      <td>Free to Play;Survival;Zombies</td>\n",
       "      <td>...</td>\n",
       "      <td>3248</td>\n",
       "      <td>413</td>\n",
       "      <td>20000000-50000000</td>\n",
       "      <td>0.00</td>\n",
       "      <td>True</td>\n",
       "      <td>True</td>\n",
       "      <td>True</td>\n",
       "      <td>20000000</td>\n",
       "      <td>50000000</td>\n",
       "      <td>2017</td>\n",
       "    </tr>\n",
       "    <tr>\n",
       "      <th>1120</th>\n",
       "      <td>Terraria</td>\n",
       "      <td>2011-05-16</td>\n",
       "      <td>True</td>\n",
       "      <td>Re-Logic</td>\n",
       "      <td>Re-Logic</td>\n",
       "      <td>windows;mac;linux</td>\n",
       "      <td>0</td>\n",
       "      <td>Single-player;Multi-player;Online Multi-Player...</td>\n",
       "      <td>Action;Adventure;Indie;RPG</td>\n",
       "      <td>Sandbox;Adventure;Survival</td>\n",
       "      <td>...</td>\n",
       "      <td>5585</td>\n",
       "      <td>1840</td>\n",
       "      <td>5000000-10000000</td>\n",
       "      <td>6.99</td>\n",
       "      <td>True</td>\n",
       "      <td>True</td>\n",
       "      <td>True</td>\n",
       "      <td>5000000</td>\n",
       "      <td>10000000</td>\n",
       "      <td>2011</td>\n",
       "    </tr>\n",
       "    <tr>\n",
       "      <th>21</th>\n",
       "      <td>Left 4 Dead 2</td>\n",
       "      <td>2009-11-19</td>\n",
       "      <td>True</td>\n",
       "      <td>Valve</td>\n",
       "      <td>Valve</td>\n",
       "      <td>windows;mac;linux</td>\n",
       "      <td>0</td>\n",
       "      <td>Single-player;Multi-player;Co-op;Steam Achieve...</td>\n",
       "      <td>Action</td>\n",
       "      <td>Zombies;Co-op;FPS</td>\n",
       "      <td>...</td>\n",
       "      <td>1615</td>\n",
       "      <td>566</td>\n",
       "      <td>10000000-20000000</td>\n",
       "      <td>7.19</td>\n",
       "      <td>True</td>\n",
       "      <td>True</td>\n",
       "      <td>True</td>\n",
       "      <td>10000000</td>\n",
       "      <td>20000000</td>\n",
       "      <td>2009</td>\n",
       "    </tr>\n",
       "  </tbody>\n",
       "</table>\n",
       "<p>10 rows × 23 columns</p>\n",
       "</div>"
      ],
      "text/plain": [
       "                                   name release_date  english  \\\n",
       "25     Counter-Strike: Global Offensive   2012-08-21     True   \n",
       "22                               Dota 2   2013-07-09     True   \n",
       "19                      Team Fortress 2   2007-10-10     True   \n",
       "12836     PLAYERUNKNOWN'S BATTLEGROUNDS   2017-12-21     True   \n",
       "121                         Garry's Mod   2006-11-29     True   \n",
       "2478                 Grand Theft Auto V   2015-04-13     True   \n",
       "1467                           PAYDAY 2   2013-08-13     True   \n",
       "3362                           Unturned   2017-07-07     True   \n",
       "1120                           Terraria   2011-05-16     True   \n",
       "21                        Left 4 Dead 2   2009-11-19     True   \n",
       "\n",
       "                             developer                 publisher  \\\n",
       "25     Valve;Hidden Path Entertainment                     Valve   \n",
       "22                               Valve                     Valve   \n",
       "19                               Valve                     Valve   \n",
       "12836                 PUBG Corporation          PUBG Corporation   \n",
       "121                  Facepunch Studios                     Valve   \n",
       "2478                    Rockstar North            Rockstar Games   \n",
       "1467   OVERKILL - a Starbreeze Studio.  Starbreeze Publishing AB   \n",
       "3362             Smartly Dressed Games     Smartly Dressed Games   \n",
       "1120                          Re-Logic                  Re-Logic   \n",
       "21                               Valve                     Valve   \n",
       "\n",
       "               platforms  required_age  \\\n",
       "25     windows;mac;linux             0   \n",
       "22     windows;mac;linux             0   \n",
       "19     windows;mac;linux             0   \n",
       "12836            windows             0   \n",
       "121    windows;mac;linux             0   \n",
       "2478             windows            18   \n",
       "1467       windows;linux            18   \n",
       "3362   windows;mac;linux             0   \n",
       "1120   windows;mac;linux             0   \n",
       "21     windows;mac;linux             0   \n",
       "\n",
       "                                              categories  \\\n",
       "25     Multi-player;Steam Achievements;Full controlle...   \n",
       "22     Multi-player;Co-op;Steam Trading Cards;Steam W...   \n",
       "19     Multi-player;Cross-Platform Multiplayer;Steam ...   \n",
       "12836             Multi-player;Online Multi-Player;Stats   \n",
       "121    Single-player;Multi-player;Co-op;Cross-Platfor...   \n",
       "2478   Single-player;Multi-player;Steam Achievements;...   \n",
       "1467   Single-player;Multi-player;Co-op;Online Co-op;...   \n",
       "3362   Single-player;Online Multi-Player;Online Co-op...   \n",
       "1120   Single-player;Multi-player;Online Multi-Player...   \n",
       "21     Single-player;Multi-player;Co-op;Steam Achieve...   \n",
       "\n",
       "                                           genres  \\\n",
       "25                            Action;Free to Play   \n",
       "22                   Action;Free to Play;Strategy   \n",
       "19                            Action;Free to Play   \n",
       "12836      Action;Adventure;Massively Multiplayer   \n",
       "121                              Indie;Simulation   \n",
       "2478                             Action;Adventure   \n",
       "1467                                   Action;RPG   \n",
       "3362   Action;Adventure;Casual;Free to Play;Indie   \n",
       "1120                   Action;Adventure;Indie;RPG   \n",
       "21                                         Action   \n",
       "\n",
       "                       steamspy_tags  ...  average_playtime  median_playtime  \\\n",
       "25           FPS;Multiplayer;Shooter  ...             22494             6502   \n",
       "22        Free to Play;MOBA;Strategy  ...             23944              801   \n",
       "19      Free to Play;Multiplayer;FPS  ...              8495              623   \n",
       "12836   Survival;Shooter;Multiplayer  ...             22938            12434   \n",
       "121        Sandbox;Multiplayer;Funny  ...             12422             1875   \n",
       "2478   Open World;Action;Multiplayer  ...              9837             4834   \n",
       "1467                Co-op;Action;FPS  ...              3975              890   \n",
       "3362   Free to Play;Survival;Zombies  ...              3248              413   \n",
       "1120      Sandbox;Adventure;Survival  ...              5585             1840   \n",
       "21                 Zombies;Co-op;FPS  ...              1615              566   \n",
       "\n",
       "                    owners  price  windows    mac  linux  owners_low  \\\n",
       "25      50000000-100000000   0.00     True   True   True    50000000   \n",
       "22     100000000-200000000   0.00     True   True   True   100000000   \n",
       "19       20000000-50000000   0.00     True   True   True    20000000   \n",
       "12836   50000000-100000000  26.99     True  False  False    50000000   \n",
       "121      10000000-20000000   6.99     True   True   True    10000000   \n",
       "2478     10000000-20000000  24.99     True  False  False    10000000   \n",
       "1467     10000000-20000000   7.49     True  False   True    10000000   \n",
       "3362     20000000-50000000   0.00     True   True   True    20000000   \n",
       "1120      5000000-10000000   6.99     True   True   True     5000000   \n",
       "21       10000000-20000000   7.19     True   True   True    10000000   \n",
       "\n",
       "       owners_high  release_year  \n",
       "25       100000000          2012  \n",
       "22       200000000          2013  \n",
       "19        50000000          2007  \n",
       "12836    100000000          2017  \n",
       "121       20000000          2006  \n",
       "2478      20000000          2015  \n",
       "1467      20000000          2013  \n",
       "3362      50000000          2017  \n",
       "1120      10000000          2011  \n",
       "21        20000000          2009  \n",
       "\n",
       "[10 rows x 23 columns]"
      ]
     },
     "metadata": {},
     "output_type": "display_data"
    }
   ],
   "source": [
    "df.sort_values('positive_ratings',ascending = False).head(5)"
   ]
  }
 ],
 "metadata": {
  "interpreter": {
   "hash": "dade5c64266412dac4e485e5d511f19ec86909a3f4b4bbd7c64cf788437fc9ff"
  },
  "kernelspec": {
   "display_name": "Python 3.9.7 ('base')",
   "language": "python",
   "name": "python3"
  },
  "language_info": {
   "codemirror_mode": {
    "name": "ipython",
    "version": 3
   },
   "file_extension": ".py",
   "mimetype": "text/x-python",
   "name": "python",
   "nbconvert_exporter": "python",
   "pygments_lexer": "ipython3",
   "version": "3.9.7"
  },
  "orig_nbformat": 4
 },
 "nbformat": 4,
 "nbformat_minor": 2
}
