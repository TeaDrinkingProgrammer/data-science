{
 "cells": [
  {
   "cell_type": "code",
   "execution_count": 7,
   "metadata": {},
   "outputs": [],
   "source": [
    "import pandas as pd"
   ]
  },
  {
   "cell_type": "code",
   "execution_count": 8,
   "metadata": {},
   "outputs": [],
   "source": [
    "import seaborn as sns\n",
    "\n",
    "sns.set_style(\"dark\")"
   ]
  },
  {
   "cell_type": "code",
   "execution_count": 9,
   "metadata": {},
   "outputs": [],
   "source": [
    "df = pd.read_csv('steam.csv', sep=',')"
   ]
  },
  {
   "cell_type": "code",
   "execution_count": 10,
   "metadata": {},
   "outputs": [],
   "source": [
    "df.pop('appid')\n",
    "# Convert english too boolean\n",
    "df['english'] = df['english'].astype('bool')\n",
    "# set release date to datetime\n",
    "df['release_date'] = pd.to_datetime(df['release_date'])\n",
    "# create 3 seperate platform fields instead of 1\n",
    "df['windows'], df['mac'], df['linux'] = df['platforms'].apply(lambda x: 'windows' in x),df['platforms'].apply(lambda x: 'mac' in x),df['platforms'].apply(lambda x: 'linux' in x)\n",
    "# Split owners categorical value in two numerical values\n",
    "df['owners_low'] = df['owners'].apply(lambda x: x.split('-')[0]).astype('int')\n",
    "df['owners_high'] = df['owners'].apply(lambda x: x.split('-')[1]).astype('int')\n",
    "# Create int out of data column\n",
    "df['release_year'] = df['release_date'].dt.year\n",
    "genres = df['genres'].apply(lambda x: x.split(';')[0])"
   ]
  },
  {
   "cell_type": "code",
   "execution_count": 11,
   "metadata": {},
   "outputs": [],
   "source": [
    "medianPlaytimeFilter = df['median_playtime']> 0.5\n",
    "ownersFilter = df['owners_low'] > 20000 #lowest range above 0\n",
    "noFreeGameFilter = df['price'] > 0.1\n",
    "reviewFilter = df['positive_ratings'] > 5"
   ]
  },
  {
   "cell_type": "code",
   "execution_count": 12,
   "metadata": {},
   "outputs": [
    {
     "name": "stdout",
     "output_type": "stream",
     "text": [
      "<class 'pandas.core.frame.DataFrame'>\n",
      "RangeIndex: 27075 entries, 0 to 27074\n",
      "Data columns (total 23 columns):\n",
      " #   Column            Non-Null Count  Dtype         \n",
      "---  ------            --------------  -----         \n",
      " 0   name              27075 non-null  object        \n",
      " 1   release_date      27075 non-null  datetime64[ns]\n",
      " 2   english           27075 non-null  bool          \n",
      " 3   developer         27075 non-null  object        \n",
      " 4   publisher         27075 non-null  object        \n",
      " 5   platforms         27075 non-null  object        \n",
      " 6   required_age      27075 non-null  int64         \n",
      " 7   categories        27075 non-null  object        \n",
      " 8   genres            27075 non-null  object        \n",
      " 9   steamspy_tags     27075 non-null  object        \n",
      " 10  achievements      27075 non-null  int64         \n",
      " 11  positive_ratings  27075 non-null  int64         \n",
      " 12  negative_ratings  27075 non-null  int64         \n",
      " 13  average_playtime  27075 non-null  int64         \n",
      " 14  median_playtime   27075 non-null  int64         \n",
      " 15  owners            27075 non-null  object        \n",
      " 16  price             27075 non-null  float64       \n",
      " 17  windows           27075 non-null  bool          \n",
      " 18  mac               27075 non-null  bool          \n",
      " 19  linux             27075 non-null  bool          \n",
      " 20  owners_low        27075 non-null  int32         \n",
      " 21  owners_high       27075 non-null  int32         \n",
      " 22  release_year      27075 non-null  int64         \n",
      "dtypes: bool(4), datetime64[ns](1), float64(1), int32(2), int64(7), object(8)\n",
      "memory usage: 3.8+ MB\n"
     ]
    }
   ],
   "source": [
    "df.info()"
   ]
  },
  {
   "cell_type": "markdown",
   "metadata": {},
   "source": [
    "# The most expensive games"
   ]
  },
  {
   "cell_type": "code",
   "execution_count": 13,
   "metadata": {},
   "outputs": [
    {
     "data": {
      "text/html": [
       "<div>\n",
       "<style scoped>\n",
       "    .dataframe tbody tr th:only-of-type {\n",
       "        vertical-align: middle;\n",
       "    }\n",
       "\n",
       "    .dataframe tbody tr th {\n",
       "        vertical-align: top;\n",
       "    }\n",
       "\n",
       "    .dataframe thead th {\n",
       "        text-align: right;\n",
       "    }\n",
       "</style>\n",
       "<table border=\"1\" class=\"dataframe\">\n",
       "  <thead>\n",
       "    <tr style=\"text-align: right;\">\n",
       "      <th></th>\n",
       "      <th>name</th>\n",
       "      <th>price</th>\n",
       "    </tr>\n",
       "  </thead>\n",
       "  <tbody>\n",
       "    <tr>\n",
       "      <th>13061</th>\n",
       "      <td>GameMaker Studio 2 Web</td>\n",
       "      <td>114.99</td>\n",
       "    </tr>\n",
       "    <tr>\n",
       "      <th>5384</th>\n",
       "      <td>RPG Maker MV</td>\n",
       "      <td>60.99</td>\n",
       "    </tr>\n",
       "    <tr>\n",
       "      <th>3950</th>\n",
       "      <td>AppGameKit: Easy Game Development</td>\n",
       "      <td>60.99</td>\n",
       "    </tr>\n",
       "    <tr>\n",
       "      <th>2435</th>\n",
       "      <td>X-Plane 11</td>\n",
       "      <td>54.99</td>\n",
       "    </tr>\n",
       "    <tr>\n",
       "      <th>21371</th>\n",
       "      <td>WARRIORS OROCHI 4 - 無双OROCHI３</td>\n",
       "      <td>54.99</td>\n",
       "    </tr>\n",
       "    <tr>\n",
       "      <th>21571</th>\n",
       "      <td>DEAD OR ALIVE 6</td>\n",
       "      <td>54.99</td>\n",
       "    </tr>\n",
       "    <tr>\n",
       "      <th>1498</th>\n",
       "      <td>RPG Maker VX Ace</td>\n",
       "      <td>52.99</td>\n",
       "    </tr>\n",
       "    <tr>\n",
       "      <th>10029</th>\n",
       "      <td>ACE COMBAT™ 7: SKIES UNKNOWN</td>\n",
       "      <td>49.99</td>\n",
       "    </tr>\n",
       "    <tr>\n",
       "      <th>10016</th>\n",
       "      <td>BERSERK and the Band of the Hawk</td>\n",
       "      <td>49.99</td>\n",
       "    </tr>\n",
       "    <tr>\n",
       "      <th>6785</th>\n",
       "      <td>ARSLAN: THE WARRIORS OF LEGEND</td>\n",
       "      <td>49.99</td>\n",
       "    </tr>\n",
       "  </tbody>\n",
       "</table>\n",
       "</div>"
      ],
      "text/plain": [
       "                                    name   price\n",
       "13061             GameMaker Studio 2 Web  114.99\n",
       "5384                        RPG Maker MV   60.99\n",
       "3950   AppGameKit: Easy Game Development   60.99\n",
       "2435                          X-Plane 11   54.99\n",
       "21371      WARRIORS OROCHI 4 - 無双OROCHI３   54.99\n",
       "21571                    DEAD OR ALIVE 6   54.99\n",
       "1498                    RPG Maker VX Ace   52.99\n",
       "10029       ACE COMBAT™ 7: SKIES UNKNOWN   49.99\n",
       "10016   BERSERK and the Band of the Hawk   49.99\n",
       "6785      ARSLAN: THE WARRIORS OF LEGEND   49.99"
      ]
     },
     "execution_count": 13,
     "metadata": {},
     "output_type": "execute_result"
    }
   ],
   "source": [
    "df[medianPlaytimeFilter][['name','price']].sort_values('price',ascending=False).head(10)"
   ]
  },
  {
   "cell_type": "code",
   "execution_count": 14,
   "metadata": {},
   "outputs": [
    {
     "name": "stderr",
     "output_type": "stream",
     "text": [
      "C:\\Users\\Stijn\\AppData\\Local\\Temp/ipykernel_15472/1183673222.py:1: UserWarning: Boolean Series key will be reindexed to match DataFrame index.\n",
      "  series = df[df['positive_ratings'] > 5][medianPlaytimeFilter]['developer'].value_counts()\n"
     ]
    },
    {
     "data": {
      "text/plain": [
       "Valve                                     26\n",
       "EnsenaSoft                                26\n",
       "Winged Cloud                              17\n",
       "Square Enix                               17\n",
       "Daedalic Entertainment                    17\n",
       "                                          ..\n",
       "IMGN.PRO                                   1\n",
       "Autumn Moon                                1\n",
       "Lord Kres                                  1\n",
       "Acido Cinza                                1\n",
       "Beijing Litchi Culture Media Co., Ltd.     1\n",
       "Name: developer, Length: 4077, dtype: int64"
      ]
     },
     "execution_count": 14,
     "metadata": {},
     "output_type": "execute_result"
    }
   ],
   "source": [
    "series = df[df['positive_ratings'] > 5][medianPlaytimeFilter]['developer'].value_counts()\n",
    "series.where(lambda x :  0 < x).dropna()"
   ]
  },
  {
   "cell_type": "code",
   "execution_count": 15,
   "metadata": {},
   "outputs": [
    {
     "name": "stderr",
     "output_type": "stream",
     "text": [
      "C:\\Users\\Stijn\\AppData\\Local\\Temp/ipykernel_15472/70254092.py:1: UserWarning: Boolean Series key will be reindexed to match DataFrame index.\n",
      "  df[df['positive_ratings'] > 5][medianPlaytimeFilter]['required_age'].value_counts()\n"
     ]
    },
    {
     "data": {
      "text/plain": [
       "0     5796\n",
       "18     186\n",
       "16     116\n",
       "12      24\n",
       "7        4\n",
       "3        3\n",
       "Name: required_age, dtype: int64"
      ]
     },
     "execution_count": 15,
     "metadata": {},
     "output_type": "execute_result"
    }
   ],
   "source": [
    "df[df['positive_ratings'] > 5][medianPlaytimeFilter]['required_age'].value_counts()"
   ]
  },
  {
   "cell_type": "markdown",
   "metadata": {},
   "source": [
    "# Number of paid and free games"
   ]
  },
  {
   "cell_type": "code",
   "execution_count": 16,
   "metadata": {},
   "outputs": [
    {
     "name": "stderr",
     "output_type": "stream",
     "text": [
      "C:\\Users\\Stijn\\AppData\\Local\\Temp/ipykernel_15472/1283793119.py:1: UserWarning: Boolean Series key will be reindexed to match DataFrame index.\n",
      "  df[noFreeGameFilter][df['price'] < 200][ownersFilter][medianPlaytimeFilter]['price'].count() , df[df['price'] < 200][ownersFilter][medianPlaytimeFilter]['price'].count()\n"
     ]
    },
    {
     "data": {
      "text/plain": [
       "(3616, 4351)"
      ]
     },
     "execution_count": 16,
     "metadata": {},
     "output_type": "execute_result"
    }
   ],
   "source": [
    "df[noFreeGameFilter][df['price'] < 200][ownersFilter][medianPlaytimeFilter]['price'].count() , df[df['price'] < 200][ownersFilter][medianPlaytimeFilter]['price'].count()"
   ]
  },
  {
   "cell_type": "markdown",
   "metadata": {},
   "source": [
    "# Amount of games per year after 2005"
   ]
  },
  {
   "cell_type": "code",
   "execution_count": 17,
   "metadata": {},
   "outputs": [
    {
     "name": "stderr",
     "output_type": "stream",
     "text": [
      "C:\\Users\\Stijn\\AppData\\Local\\Temp/ipykernel_15472/4157551761.py:1: UserWarning: Boolean Series key will be reindexed to match DataFrame index.\n",
      "  df[df['release_year'] > 2005][df['positive_ratings'] > 5]['release_year'].value_counts().sort_values().plot(kind='bar')\n"
     ]
    },
    {
     "data": {
      "text/plain": [
       "<AxesSubplot:>"
      ]
     },
     "execution_count": 17,
     "metadata": {},
     "output_type": "execute_result"
    },
    {
     "data": {
      "image/png": "[encoded data removed]",
      "text/plain": [
       "<Figure size 432x288 with 1 Axes>"
      ]
     },
     "metadata": {},
     "output_type": "display_data"
    }
   ],
   "source": [
    "df[df['release_year'] > 2005][df['positive_ratings'] > 5]['release_year'].value_counts().sort_values().plot(kind='bar')"
   ]
  },
  {
   "cell_type": "markdown",
   "metadata": {},
   "source": [
    "# Amount of games that were played for longer than 30 hours"
   ]
  },
  {
   "cell_type": "code",
   "execution_count": 18,
   "metadata": {},
   "outputs": [
    {
     "name": "stderr",
     "output_type": "stream",
     "text": [
      "C:\\Users\\Stijn\\AppData\\Local\\Temp/ipykernel_15472/3851282036.py:1: UserWarning: Boolean Series key will be reindexed to match DataFrame index.\n",
      "  df[ownersFilter][medianPlaytimeFilter]['release_year'].value_counts().sort_values().plot(kind='bar')\n"
     ]
    },
    {
     "data": {
      "text/plain": [
       "<AxesSubplot:>"
      ]
     },
     "execution_count": 18,
     "metadata": {},
     "output_type": "execute_result"
    },
    {
     "data": {
      "image/png": "[encoded data removed]",
      "text/plain": [
       "<Figure size 432x288 with 1 Axes>"
      ]
     },
     "metadata": {},
     "output_type": "display_data"
    }
   ],
   "source": [
    "df[ownersFilter][medianPlaytimeFilter]['release_year'].value_counts().sort_values().plot(kind='bar')"
   ]
  },
  {
   "cell_type": "markdown",
   "metadata": {},
   "source": [
    "# Most positively reviewed games"
   ]
  },
  {
   "cell_type": "code",
   "execution_count": 19,
   "metadata": {},
   "outputs": [
    {
     "data": {
      "text/html": [
       "<div>\n",
       "<style scoped>\n",
       "    .dataframe tbody tr th:only-of-type {\n",
       "        vertical-align: middle;\n",
       "    }\n",
       "\n",
       "    .dataframe tbody tr th {\n",
       "        vertical-align: top;\n",
       "    }\n",
       "\n",
       "    .dataframe thead th {\n",
       "        text-align: right;\n",
       "    }\n",
       "</style>\n",
       "<table border=\"1\" class=\"dataframe\">\n",
       "  <thead>\n",
       "    <tr style=\"text-align: right;\">\n",
       "      <th></th>\n",
       "      <th>name</th>\n",
       "      <th>release_date</th>\n",
       "      <th>english</th>\n",
       "      <th>developer</th>\n",
       "      <th>publisher</th>\n",
       "      <th>platforms</th>\n",
       "      <th>required_age</th>\n",
       "      <th>categories</th>\n",
       "      <th>genres</th>\n",
       "      <th>steamspy_tags</th>\n",
       "      <th>...</th>\n",
       "      <th>average_playtime</th>\n",
       "      <th>median_playtime</th>\n",
       "      <th>owners</th>\n",
       "      <th>price</th>\n",
       "      <th>windows</th>\n",
       "      <th>mac</th>\n",
       "      <th>linux</th>\n",
       "      <th>owners_low</th>\n",
       "      <th>owners_high</th>\n",
       "      <th>release_year</th>\n",
       "    </tr>\n",
       "  </thead>\n",
       "  <tbody>\n",
       "    <tr>\n",
       "      <th>25</th>\n",
       "      <td>Counter-Strike: Global Offensive</td>\n",
       "      <td>2012-08-21</td>\n",
       "      <td>True</td>\n",
       "      <td>Valve;Hidden Path Entertainment</td>\n",
       "      <td>Valve</td>\n",
       "      <td>windows;mac;linux</td>\n",
       "      <td>0</td>\n",
       "      <td>Multi-player;Steam Achievements;Full controlle...</td>\n",
       "      <td>Action;Free to Play</td>\n",
       "      <td>FPS;Multiplayer;Shooter</td>\n",
       "      <td>...</td>\n",
       "      <td>22494</td>\n",
       "      <td>6502</td>\n",
       "      <td>50000000-100000000</td>\n",
       "      <td>0.00</td>\n",
       "      <td>True</td>\n",
       "      <td>True</td>\n",
       "      <td>True</td>\n",
       "      <td>50000000</td>\n",
       "      <td>100000000</td>\n",
       "      <td>2012</td>\n",
       "    </tr>\n",
       "    <tr>\n",
       "      <th>22</th>\n",
       "      <td>Dota 2</td>\n",
       "      <td>2013-07-09</td>\n",
       "      <td>True</td>\n",
       "      <td>Valve</td>\n",
       "      <td>Valve</td>\n",
       "      <td>windows;mac;linux</td>\n",
       "      <td>0</td>\n",
       "      <td>Multi-player;Co-op;Steam Trading Cards;Steam W...</td>\n",
       "      <td>Action;Free to Play;Strategy</td>\n",
       "      <td>Free to Play;MOBA;Strategy</td>\n",
       "      <td>...</td>\n",
       "      <td>23944</td>\n",
       "      <td>801</td>\n",
       "      <td>100000000-200000000</td>\n",
       "      <td>0.00</td>\n",
       "      <td>True</td>\n",
       "      <td>True</td>\n",
       "      <td>True</td>\n",
       "      <td>100000000</td>\n",
       "      <td>200000000</td>\n",
       "      <td>2013</td>\n",
       "    </tr>\n",
       "    <tr>\n",
       "      <th>19</th>\n",
       "      <td>Team Fortress 2</td>\n",
       "      <td>2007-10-10</td>\n",
       "      <td>True</td>\n",
       "      <td>Valve</td>\n",
       "      <td>Valve</td>\n",
       "      <td>windows;mac;linux</td>\n",
       "      <td>0</td>\n",
       "      <td>Multi-player;Cross-Platform Multiplayer;Steam ...</td>\n",
       "      <td>Action;Free to Play</td>\n",
       "      <td>Free to Play;Multiplayer;FPS</td>\n",
       "      <td>...</td>\n",
       "      <td>8495</td>\n",
       "      <td>623</td>\n",
       "      <td>20000000-50000000</td>\n",
       "      <td>0.00</td>\n",
       "      <td>True</td>\n",
       "      <td>True</td>\n",
       "      <td>True</td>\n",
       "      <td>20000000</td>\n",
       "      <td>50000000</td>\n",
       "      <td>2007</td>\n",
       "    </tr>\n",
       "    <tr>\n",
       "      <th>12836</th>\n",
       "      <td>PLAYERUNKNOWN'S BATTLEGROUNDS</td>\n",
       "      <td>2017-12-21</td>\n",
       "      <td>True</td>\n",
       "      <td>PUBG Corporation</td>\n",
       "      <td>PUBG Corporation</td>\n",
       "      <td>windows</td>\n",
       "      <td>0</td>\n",
       "      <td>Multi-player;Online Multi-Player;Stats</td>\n",
       "      <td>Action;Adventure;Massively Multiplayer</td>\n",
       "      <td>Survival;Shooter;Multiplayer</td>\n",
       "      <td>...</td>\n",
       "      <td>22938</td>\n",
       "      <td>12434</td>\n",
       "      <td>50000000-100000000</td>\n",
       "      <td>26.99</td>\n",
       "      <td>True</td>\n",
       "      <td>False</td>\n",
       "      <td>False</td>\n",
       "      <td>50000000</td>\n",
       "      <td>100000000</td>\n",
       "      <td>2017</td>\n",
       "    </tr>\n",
       "    <tr>\n",
       "      <th>121</th>\n",
       "      <td>Garry's Mod</td>\n",
       "      <td>2006-11-29</td>\n",
       "      <td>True</td>\n",
       "      <td>Facepunch Studios</td>\n",
       "      <td>Valve</td>\n",
       "      <td>windows;mac;linux</td>\n",
       "      <td>0</td>\n",
       "      <td>Single-player;Multi-player;Co-op;Cross-Platfor...</td>\n",
       "      <td>Indie;Simulation</td>\n",
       "      <td>Sandbox;Multiplayer;Funny</td>\n",
       "      <td>...</td>\n",
       "      <td>12422</td>\n",
       "      <td>1875</td>\n",
       "      <td>10000000-20000000</td>\n",
       "      <td>6.99</td>\n",
       "      <td>True</td>\n",
       "      <td>True</td>\n",
       "      <td>True</td>\n",
       "      <td>10000000</td>\n",
       "      <td>20000000</td>\n",
       "      <td>2006</td>\n",
       "    </tr>\n",
       "  </tbody>\n",
       "</table>\n",
       "<p>5 rows × 23 columns</p>\n",
       "</div>"
      ],
      "text/plain": [
       "                                   name release_date  english  \\\n",
       "25     Counter-Strike: Global Offensive   2012-08-21     True   \n",
       "22                               Dota 2   2013-07-09     True   \n",
       "19                      Team Fortress 2   2007-10-10     True   \n",
       "12836     PLAYERUNKNOWN'S BATTLEGROUNDS   2017-12-21     True   \n",
       "121                         Garry's Mod   2006-11-29     True   \n",
       "\n",
       "                             developer         publisher          platforms  \\\n",
       "25     Valve;Hidden Path Entertainment             Valve  windows;mac;linux   \n",
       "22                               Valve             Valve  windows;mac;linux   \n",
       "19                               Valve             Valve  windows;mac;linux   \n",
       "12836                 PUBG Corporation  PUBG Corporation            windows   \n",
       "121                  Facepunch Studios             Valve  windows;mac;linux   \n",
       "\n",
       "       required_age                                         categories  \\\n",
       "25                0  Multi-player;Steam Achievements;Full controlle...   \n",
       "22                0  Multi-player;Co-op;Steam Trading Cards;Steam W...   \n",
       "19                0  Multi-player;Cross-Platform Multiplayer;Steam ...   \n",
       "12836             0             Multi-player;Online Multi-Player;Stats   \n",
       "121               0  Single-player;Multi-player;Co-op;Cross-Platfor...   \n",
       "\n",
       "                                       genres                 steamspy_tags  \\\n",
       "25                        Action;Free to Play       FPS;Multiplayer;Shooter   \n",
       "22               Action;Free to Play;Strategy    Free to Play;MOBA;Strategy   \n",
       "19                        Action;Free to Play  Free to Play;Multiplayer;FPS   \n",
       "12836  Action;Adventure;Massively Multiplayer  Survival;Shooter;Multiplayer   \n",
       "121                          Indie;Simulation     Sandbox;Multiplayer;Funny   \n",
       "\n",
       "       ...  average_playtime  median_playtime               owners  price  \\\n",
       "25     ...             22494             6502   50000000-100000000   0.00   \n",
       "22     ...             23944              801  100000000-200000000   0.00   \n",
       "19     ...              8495              623    20000000-50000000   0.00   \n",
       "12836  ...             22938            12434   50000000-100000000  26.99   \n",
       "121    ...             12422             1875    10000000-20000000   6.99   \n",
       "\n",
       "       windows    mac  linux  owners_low  owners_high  release_year  \n",
       "25        True   True   True    50000000    100000000          2012  \n",
       "22        True   True   True   100000000    200000000          2013  \n",
       "19        True   True   True    20000000     50000000          2007  \n",
       "12836     True  False  False    50000000    100000000          2017  \n",
       "121       True   True   True    10000000     20000000          2006  \n",
       "\n",
       "[5 rows x 23 columns]"
      ]
     },
     "execution_count": 19,
     "metadata": {},
     "output_type": "execute_result"
    }
   ],
   "source": [
    "df.sort_values('positive_ratings',ascending = False).head(5)"
   ]
  }
 ],
 "metadata": {
  "interpreter": {
   "hash": "dade5c64266412dac4e485e5d511f19ec86909a3f4b4bbd7c64cf788437fc9ff"
  },
  "kernelspec": {
   "display_name": "Python 3.9.7 ('base')",
   "language": "python",
   "name": "python3"
  },
  "language_info": {
   "codemirror_mode": {
    "name": "ipython",
    "version": 3
   },
   "file_extension": ".py",
   "mimetype": "text/x-python",
   "name": "python",
   "nbconvert_exporter": "python",
   "pygments_lexer": "ipython3",
   "version": "3.9.7"
  },
  "orig_nbformat": 4
 },
 "nbformat": 4,
 "nbformat_minor": 2
}
