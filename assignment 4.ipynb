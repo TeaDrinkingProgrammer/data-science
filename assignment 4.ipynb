{
 "cells": [
  {
   "cell_type": "markdown",
   "metadata": {},
   "source": [
    "I have chosen for a dataset containing Steam game data.\n",
    "[Source for the dataset](https://www.kaggle.com/nikdavis/steam-store-games)  \n",
    "[Implementation with handy functions to process data](https://www.kaggle.com/cloudy17/eda-steam)"
   ]
  }
 ],
 "metadata": {
  "language_info": {
   "name": "python"
  },
  "orig_nbformat": 4
 },
 "nbformat": 4,
 "nbformat_minor": 2
}
