{
 "cells": [
  {
   "cell_type": "markdown",
   "metadata": {},
   "source": [
    "# Bivariate analysis regarding correlation on 1 combination of 2 columns of categorical data on Mushrooms dataset"
   ]
  },
  {
   "cell_type": "code",
   "execution_count": 9,
   "metadata": {},
   "outputs": [],
   "source": [
    "import pandas as pd"
   ]
  },
  {
   "cell_type": "code",
   "execution_count": 10,
   "metadata": {},
   "outputs": [],
   "source": [
    "import seaborn as sns\n",
    "sns.set_style(\"dark\")"
   ]
  },
  {
   "cell_type": "code",
   "execution_count": 11,
   "metadata": {},
   "outputs": [],
   "source": [
    "from scipy.stats import chi2_contingency"
   ]
  },
  {
   "cell_type": "markdown",
   "metadata": {},
   "source": [
    "As my previous dataset had mostly numerical data, I am using this dataset for categorical excersises. The data is categorical data about mushrooms. Each mushrooms has data on whether it is poisinous or not and information about the mushrooms properties.  \n",
    "https://www.kaggle.com/hatterasdunton/mushroom-classification-updated-dataset?select=mushroomsupdated.csv"
   ]
  },
  {
   "cell_type": "code",
   "execution_count": 12,
   "metadata": {},
   "outputs": [],
   "source": [
    "df = pd.read_csv('mushrooms.csv', sep=',')\n",
    "sns.set_style(\"dark\")"
   ]
  },
  {
   "cell_type": "code",
   "execution_count": 13,
   "metadata": {},
   "outputs": [
    {
     "data": {
      "text/html": [
       "<div>\n",
       "<style scoped>\n",
       "    .dataframe tbody tr th:only-of-type {\n",
       "        vertical-align: middle;\n",
       "    }\n",
       "\n",
       "    .dataframe tbody tr th {\n",
       "        vertical-align: top;\n",
       "    }\n",
       "\n",
       "    .dataframe thead th {\n",
       "        text-align: right;\n",
       "    }\n",
       "</style>\n",
       "<table border=\"1\" class=\"dataframe\">\n",
       "  <thead>\n",
       "    <tr style=\"text-align: right;\">\n",
       "      <th></th>\n",
       "      <th>class</th>\n",
       "      <th>cap-shape</th>\n",
       "      <th>cap-surface</th>\n",
       "      <th>cap-color</th>\n",
       "      <th>bruises</th>\n",
       "      <th>odor</th>\n",
       "      <th>gill-attachment</th>\n",
       "      <th>gill-spacing</th>\n",
       "      <th>gill-size</th>\n",
       "      <th>gill-color</th>\n",
       "      <th>...</th>\n",
       "      <th>stalk-surface-below-ring</th>\n",
       "      <th>stalk-color-above-ring</th>\n",
       "      <th>stalk-color-below-ring</th>\n",
       "      <th>veil-type</th>\n",
       "      <th>veil-color</th>\n",
       "      <th>ring-number</th>\n",
       "      <th>ring-type</th>\n",
       "      <th>spore-print-color</th>\n",
       "      <th>population</th>\n",
       "      <th>habitat</th>\n",
       "    </tr>\n",
       "  </thead>\n",
       "  <tbody>\n",
       "    <tr>\n",
       "      <th>0</th>\n",
       "      <td>Poisonous</td>\n",
       "      <td>Convex</td>\n",
       "      <td>Smooth</td>\n",
       "      <td>Brown</td>\n",
       "      <td>Bruises</td>\n",
       "      <td>Pungent</td>\n",
       "      <td>Free</td>\n",
       "      <td>Close</td>\n",
       "      <td>Narrow</td>\n",
       "      <td>Black</td>\n",
       "      <td>...</td>\n",
       "      <td>Smooth</td>\n",
       "      <td>White</td>\n",
       "      <td>White</td>\n",
       "      <td>Partial</td>\n",
       "      <td>White</td>\n",
       "      <td>One</td>\n",
       "      <td>Pendant</td>\n",
       "      <td>Black</td>\n",
       "      <td>Scattered</td>\n",
       "      <td>Urban</td>\n",
       "    </tr>\n",
       "    <tr>\n",
       "      <th>1</th>\n",
       "      <td>Edible</td>\n",
       "      <td>Convex</td>\n",
       "      <td>Smooth</td>\n",
       "      <td>Yellow</td>\n",
       "      <td>Bruises</td>\n",
       "      <td>Almond</td>\n",
       "      <td>Free</td>\n",
       "      <td>Close</td>\n",
       "      <td>Broad</td>\n",
       "      <td>Black</td>\n",
       "      <td>...</td>\n",
       "      <td>Smooth</td>\n",
       "      <td>White</td>\n",
       "      <td>White</td>\n",
       "      <td>Partial</td>\n",
       "      <td>White</td>\n",
       "      <td>One</td>\n",
       "      <td>Pendant</td>\n",
       "      <td>Brown</td>\n",
       "      <td>Numerous</td>\n",
       "      <td>Grasses</td>\n",
       "    </tr>\n",
       "    <tr>\n",
       "      <th>2</th>\n",
       "      <td>Edible</td>\n",
       "      <td>Bell</td>\n",
       "      <td>Smooth</td>\n",
       "      <td>White</td>\n",
       "      <td>Bruises</td>\n",
       "      <td>Anise</td>\n",
       "      <td>Free</td>\n",
       "      <td>Close</td>\n",
       "      <td>Broad</td>\n",
       "      <td>Brown</td>\n",
       "      <td>...</td>\n",
       "      <td>Smooth</td>\n",
       "      <td>White</td>\n",
       "      <td>White</td>\n",
       "      <td>Partial</td>\n",
       "      <td>White</td>\n",
       "      <td>One</td>\n",
       "      <td>Pendant</td>\n",
       "      <td>Brown</td>\n",
       "      <td>Numerous</td>\n",
       "      <td>Meadows</td>\n",
       "    </tr>\n",
       "    <tr>\n",
       "      <th>3</th>\n",
       "      <td>Poisonous</td>\n",
       "      <td>Convex</td>\n",
       "      <td>Scaly</td>\n",
       "      <td>White</td>\n",
       "      <td>Bruises</td>\n",
       "      <td>Pungent</td>\n",
       "      <td>Free</td>\n",
       "      <td>Close</td>\n",
       "      <td>Narrow</td>\n",
       "      <td>Brown</td>\n",
       "      <td>...</td>\n",
       "      <td>Smooth</td>\n",
       "      <td>White</td>\n",
       "      <td>White</td>\n",
       "      <td>Partial</td>\n",
       "      <td>White</td>\n",
       "      <td>One</td>\n",
       "      <td>Pendant</td>\n",
       "      <td>Black</td>\n",
       "      <td>Scattered</td>\n",
       "      <td>Urban</td>\n",
       "    </tr>\n",
       "    <tr>\n",
       "      <th>4</th>\n",
       "      <td>Edible</td>\n",
       "      <td>Convex</td>\n",
       "      <td>Smooth</td>\n",
       "      <td>Green</td>\n",
       "      <td>No Bruises</td>\n",
       "      <td>None</td>\n",
       "      <td>Free</td>\n",
       "      <td>Crowded</td>\n",
       "      <td>Broad</td>\n",
       "      <td>Black</td>\n",
       "      <td>...</td>\n",
       "      <td>Smooth</td>\n",
       "      <td>White</td>\n",
       "      <td>White</td>\n",
       "      <td>Partial</td>\n",
       "      <td>White</td>\n",
       "      <td>One</td>\n",
       "      <td>Evanescent</td>\n",
       "      <td>Brown</td>\n",
       "      <td>Abundant</td>\n",
       "      <td>Grasses</td>\n",
       "    </tr>\n",
       "  </tbody>\n",
       "</table>\n",
       "<p>5 rows × 23 columns</p>\n",
       "</div>"
      ],
      "text/plain": [
       "       class cap-shape cap-surface cap-color     bruises     odor  \\\n",
       "0  Poisonous    Convex      Smooth     Brown     Bruises  Pungent   \n",
       "1     Edible    Convex      Smooth    Yellow     Bruises   Almond   \n",
       "2     Edible      Bell      Smooth     White     Bruises    Anise   \n",
       "3  Poisonous    Convex       Scaly     White     Bruises  Pungent   \n",
       "4     Edible    Convex      Smooth     Green  No Bruises     None   \n",
       "\n",
       "  gill-attachment gill-spacing gill-size gill-color  ...  \\\n",
       "0            Free        Close    Narrow      Black  ...   \n",
       "1            Free        Close     Broad      Black  ...   \n",
       "2            Free        Close     Broad      Brown  ...   \n",
       "3            Free        Close    Narrow      Brown  ...   \n",
       "4            Free      Crowded     Broad      Black  ...   \n",
       "\n",
       "  stalk-surface-below-ring stalk-color-above-ring stalk-color-below-ring  \\\n",
       "0                   Smooth                  White                  White   \n",
       "1                   Smooth                  White                  White   \n",
       "2                   Smooth                  White                  White   \n",
       "3                   Smooth                  White                  White   \n",
       "4                   Smooth                  White                  White   \n",
       "\n",
       "  veil-type veil-color ring-number   ring-type spore-print-color population  \\\n",
       "0   Partial      White         One     Pendant             Black  Scattered   \n",
       "1   Partial      White         One     Pendant             Brown   Numerous   \n",
       "2   Partial      White         One     Pendant             Brown   Numerous   \n",
       "3   Partial      White         One     Pendant             Black  Scattered   \n",
       "4   Partial      White         One  Evanescent             Brown   Abundant   \n",
       "\n",
       "   habitat  \n",
       "0    Urban  \n",
       "1  Grasses  \n",
       "2  Meadows  \n",
       "3    Urban  \n",
       "4  Grasses  \n",
       "\n",
       "[5 rows x 23 columns]"
      ]
     },
     "execution_count": 13,
     "metadata": {},
     "output_type": "execute_result"
    }
   ],
   "source": [
    "df.head()"
   ]
  },
  {
   "cell_type": "markdown",
   "metadata": {},
   "source": [
    "I would like to see if color and poininousness are correlated. I know this is the case with animals, but I don't know about mushrooms"
   ]
  },
  {
   "cell_type": "code",
   "execution_count": 14,
   "metadata": {},
   "outputs": [
    {
     "data": {
      "text/html": [
       "<div>\n",
       "<style scoped>\n",
       "    .dataframe tbody tr th:only-of-type {\n",
       "        vertical-align: middle;\n",
       "    }\n",
       "\n",
       "    .dataframe tbody tr th {\n",
       "        vertical-align: top;\n",
       "    }\n",
       "\n",
       "    .dataframe thead th {\n",
       "        text-align: right;\n",
       "    }\n",
       "</style>\n",
       "<table border=\"1\" class=\"dataframe\">\n",
       "  <thead>\n",
       "    <tr style=\"text-align: right;\">\n",
       "      <th>class</th>\n",
       "      <th>Edible</th>\n",
       "      <th>Poisonous</th>\n",
       "    </tr>\n",
       "    <tr>\n",
       "      <th>cap-color</th>\n",
       "      <th></th>\n",
       "      <th></th>\n",
       "    </tr>\n",
       "  </thead>\n",
       "  <tbody>\n",
       "    <tr>\n",
       "      <th>Brown</th>\n",
       "      <td>1264</td>\n",
       "      <td>1020</td>\n",
       "    </tr>\n",
       "    <tr>\n",
       "      <th>Buff</th>\n",
       "      <td>48</td>\n",
       "      <td>120</td>\n",
       "    </tr>\n",
       "    <tr>\n",
       "      <th>Cinnamon</th>\n",
       "      <td>32</td>\n",
       "      <td>12</td>\n",
       "    </tr>\n",
       "    <tr>\n",
       "      <th>Green</th>\n",
       "      <td>1048</td>\n",
       "      <td>808</td>\n",
       "    </tr>\n",
       "    <tr>\n",
       "      <th>Pink</th>\n",
       "      <td>56</td>\n",
       "      <td>88</td>\n",
       "    </tr>\n",
       "    <tr>\n",
       "      <th>Purple</th>\n",
       "      <td>16</td>\n",
       "      <td>0</td>\n",
       "    </tr>\n",
       "    <tr>\n",
       "      <th>Red</th>\n",
       "      <td>624</td>\n",
       "      <td>876</td>\n",
       "    </tr>\n",
       "    <tr>\n",
       "      <th>White</th>\n",
       "      <td>720</td>\n",
       "      <td>320</td>\n",
       "    </tr>\n",
       "    <tr>\n",
       "      <th>Yellow</th>\n",
       "      <td>400</td>\n",
       "      <td>672</td>\n",
       "    </tr>\n",
       "  </tbody>\n",
       "</table>\n",
       "</div>"
      ],
      "text/plain": [
       "class      Edible  Poisonous\n",
       "cap-color                   \n",
       "Brown        1264       1020\n",
       "Buff           48        120\n",
       "Cinnamon       32         12\n",
       "Green        1048        808\n",
       "Pink           56         88\n",
       "Purple         16          0\n",
       "Red           624        876\n",
       "White         720        320\n",
       "Yellow        400        672"
      ]
     },
     "execution_count": 14,
     "metadata": {},
     "output_type": "execute_result"
    }
   ],
   "source": [
    "table = df.groupby(['cap-color','class']).size().unstack('class', fill_value=0)\n",
    "table"
   ]
  },
  {
   "cell_type": "markdown",
   "metadata": {},
   "source": [
    "There are some significant differences in ratios: Brown doesn't say anything, white means it is probably okay and all purple mushrooms (in this dataset at least) are poisionous."
   ]
  },
  {
   "cell_type": "code",
   "execution_count": 15,
   "metadata": {},
   "outputs": [
    {
     "data": {
      "text/plain": [
       "<AxesSubplot:xlabel='cap-color'>"
      ]
     },
     "execution_count": 15,
     "metadata": {},
     "output_type": "execute_result"
    },
    {
     "data": {
      "image/png": "[encoded data removed]",
      "text/plain": [
       "<Figure size 432x288 with 1 Axes>"
      ]
     },
     "metadata": {},
     "output_type": "display_data"
    }
   ],
   "source": [
    "table.plot(kind='bar')"
   ]
  },
  {
   "cell_type": "markdown",
   "metadata": {},
   "source": [
    "The bar plot also shows significantly different ratios"
   ]
  },
  {
   "cell_type": "code",
   "execution_count": 16,
   "metadata": {},
   "outputs": [
    {
     "data": {
      "text/plain": [
       "(375.346859678969,\n",
       " 3.495286115362265e-76,\n",
       " 8,\n",
       " array([[1183.04677499, 1100.95322501],\n",
       "        [  87.01920236,   80.98079764],\n",
       "        [  22.79074348,   21.20925652],\n",
       "        [ 961.35499754,  894.64500246],\n",
       "        [  74.58788774,   69.41211226],\n",
       "        [   8.28754308,    7.71245692],\n",
       "        [ 776.95716396,  723.04283604],\n",
       "        [ 538.69030034,  501.30969966],\n",
       "        [ 555.26538651,  516.73461349]]))"
      ]
     },
     "execution_count": 16,
     "metadata": {},
     "output_type": "execute_result"
    }
   ],
   "source": [
    "chi2_contingency(table)"
   ]
  },
  {
   "cell_type": "markdown",
   "metadata": {},
   "source": [
    "The chance of the two variables being correlated is very high."
   ]
  }
 ],
 "metadata": {
  "interpreter": {
   "hash": "dade5c64266412dac4e485e5d511f19ec86909a3f4b4bbd7c64cf788437fc9ff"
  },
  "kernelspec": {
   "display_name": "Python 3.9.7 ('base')",
   "language": "python",
   "name": "python3"
  },
  "language_info": {
   "codemirror_mode": {
    "name": "ipython",
    "version": 3
   },
   "file_extension": ".py",
   "mimetype": "text/x-python",
   "name": "python",
   "nbconvert_exporter": "python",
   "pygments_lexer": "ipython3",
   "version": "3.9.7"
  },
  "orig_nbformat": 4
 },
 "nbformat": 4,
 "nbformat_minor": 2
}
