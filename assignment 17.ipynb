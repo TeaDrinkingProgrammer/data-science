{
 "cells": [
  {
   "cell_type": "markdown",
   "metadata": {},
   "source": [
    "# Decision tree predicting the numerical column of body_mass_g in Penguins dataset"
   ]
  },
  {
   "cell_type": "code",
   "execution_count": 1,
   "metadata": {},
   "outputs": [],
   "source": [
    "import pandas as pd\n",
    "import seaborn as sns"
   ]
  },
  {
   "cell_type": "code",
   "execution_count": 2,
   "metadata": {},
   "outputs": [],
   "source": [
    "from sklearn.tree import DecisionTreeRegressor"
   ]
  },
  {
   "cell_type": "code",
   "execution_count": 3,
   "metadata": {},
   "outputs": [],
   "source": [
    "from sklearn.model_selection import train_test_split"
   ]
  },
  {
   "cell_type": "code",
   "execution_count": 4,
   "metadata": {},
   "outputs": [],
   "source": [
    "from sklearn import tree\n",
    "import graphviz\n",
    "\n",
    "def plot_tree_regression(model, features):\n",
    "    # Generate plot data\n",
    "    dot_data = tree.export_graphviz(model, out_file=None, \n",
    "                          feature_names=features,  \n",
    "                          filled=True, rounded=True,  \n",
    "                          special_characters=True)  \n",
    "\n",
    "    # Turn into graph using graphviz\n",
    "    graph = graphviz.Source(dot_data)  \n",
    "\n",
    "    # Write out a pdf\n",
    "    graph.render(\"decision_tree\")\n",
    "\n",
    "    # Display in the notebook\n",
    "    return graph "
   ]
  },
  {
   "cell_type": "code",
   "execution_count": 5,
   "metadata": {},
   "outputs": [
    {
     "data": {
      "text/html": [
       "<div>\n",
       "<style scoped>\n",
       "    .dataframe tbody tr th:only-of-type {\n",
       "        vertical-align: middle;\n",
       "    }\n",
       "\n",
       "    .dataframe tbody tr th {\n",
       "        vertical-align: top;\n",
       "    }\n",
       "\n",
       "    .dataframe thead th {\n",
       "        text-align: right;\n",
       "    }\n",
       "</style>\n",
       "<table border=\"1\" class=\"dataframe\">\n",
       "  <thead>\n",
       "    <tr style=\"text-align: right;\">\n",
       "      <th></th>\n",
       "      <th>species</th>\n",
       "      <th>island</th>\n",
       "      <th>bill_length_mm</th>\n",
       "      <th>bill_depth_mm</th>\n",
       "      <th>flipper_length_mm</th>\n",
       "      <th>body_mass_g</th>\n",
       "      <th>sex</th>\n",
       "    </tr>\n",
       "  </thead>\n",
       "  <tbody>\n",
       "    <tr>\n",
       "      <th>0</th>\n",
       "      <td>Adelie</td>\n",
       "      <td>Torgersen</td>\n",
       "      <td>39.1</td>\n",
       "      <td>18.7</td>\n",
       "      <td>181.0</td>\n",
       "      <td>3750.0</td>\n",
       "      <td>Male</td>\n",
       "    </tr>\n",
       "    <tr>\n",
       "      <th>1</th>\n",
       "      <td>Adelie</td>\n",
       "      <td>Torgersen</td>\n",
       "      <td>39.5</td>\n",
       "      <td>17.4</td>\n",
       "      <td>186.0</td>\n",
       "      <td>3800.0</td>\n",
       "      <td>Female</td>\n",
       "    </tr>\n",
       "    <tr>\n",
       "      <th>2</th>\n",
       "      <td>Adelie</td>\n",
       "      <td>Torgersen</td>\n",
       "      <td>40.3</td>\n",
       "      <td>18.0</td>\n",
       "      <td>195.0</td>\n",
       "      <td>3250.0</td>\n",
       "      <td>Female</td>\n",
       "    </tr>\n",
       "    <tr>\n",
       "      <th>3</th>\n",
       "      <td>Adelie</td>\n",
       "      <td>Torgersen</td>\n",
       "      <td>NaN</td>\n",
       "      <td>NaN</td>\n",
       "      <td>NaN</td>\n",
       "      <td>NaN</td>\n",
       "      <td>NaN</td>\n",
       "    </tr>\n",
       "    <tr>\n",
       "      <th>4</th>\n",
       "      <td>Adelie</td>\n",
       "      <td>Torgersen</td>\n",
       "      <td>36.7</td>\n",
       "      <td>19.3</td>\n",
       "      <td>193.0</td>\n",
       "      <td>3450.0</td>\n",
       "      <td>Female</td>\n",
       "    </tr>\n",
       "  </tbody>\n",
       "</table>\n",
       "</div>"
      ],
      "text/plain": [
       "  species     island  bill_length_mm  bill_depth_mm  flipper_length_mm  \\\n",
       "0  Adelie  Torgersen            39.1           18.7              181.0   \n",
       "1  Adelie  Torgersen            39.5           17.4              186.0   \n",
       "2  Adelie  Torgersen            40.3           18.0              195.0   \n",
       "3  Adelie  Torgersen             NaN            NaN                NaN   \n",
       "4  Adelie  Torgersen            36.7           19.3              193.0   \n",
       "\n",
       "   body_mass_g     sex  \n",
       "0       3750.0    Male  \n",
       "1       3800.0  Female  \n",
       "2       3250.0  Female  \n",
       "3          NaN     NaN  \n",
       "4       3450.0  Female  "
      ]
     },
     "execution_count": 5,
     "metadata": {},
     "output_type": "execute_result"
    }
   ],
   "source": [
    "penguins = sns.load_dataset(\"penguins\")\n",
    "penguins.head()"
   ]
  },
  {
   "cell_type": "code",
   "execution_count": 6,
   "metadata": {},
   "outputs": [],
   "source": [
    "penguins_model = penguins.dropna()"
   ]
  },
  {
   "cell_type": "code",
   "execution_count": 7,
   "metadata": {},
   "outputs": [],
   "source": [
    "penguins_train, penguins_test = train_test_split(penguins_model, test_size=0.3, stratify=penguins_model['species'], random_state=42)"
   ]
  },
  {
   "cell_type": "code",
   "execution_count": 8,
   "metadata": {},
   "outputs": [
    {
     "data": {
      "text/plain": [
       "DecisionTreeRegressor(max_depth=3)"
      ]
     },
     "execution_count": 8,
     "metadata": {},
     "output_type": "execute_result"
    }
   ],
   "source": [
    "features= ['bill_length_mm','flipper_length_mm']\n",
    "dt_regression = DecisionTreeRegressor(max_depth = 3) # Increase max_depth to see effect in the plot\n",
    "dt_regression.fit(penguins_train[features], penguins_train['body_mass_g'])"
   ]
  },
  {
   "cell_type": "code",
   "execution_count": 9,
   "metadata": {},
   "outputs": [],
   "source": [
    "def calculate_rmse(predictions, actuals):\n",
    "    if(len(predictions) != len(actuals)):\n",
    "        raise Exception(\"The amount of predictions did not equal the amount of actuals\")\n",
    "    \n",
    "    return (((predictions - actuals) ** 2).sum() / len(actuals)) ** (1/2)"
   ]
  },
  {
   "cell_type": "code",
   "execution_count": 10,
   "metadata": {},
   "outputs": [
    {
     "name": "stdout",
     "output_type": "stream",
     "text": [
      "RMSE on training set 348.37874508841065\n",
      "RMSE on test set 403.8548465547442\n"
     ]
    }
   ],
   "source": [
    "predictionsOnTrainset = dt_regression.predict(penguins_train[features])\n",
    "predictionsOnTestset = dt_regression.predict(penguins_test[features])\n",
    "\n",
    "rmseTrain = calculate_rmse(predictionsOnTrainset, penguins_train.body_mass_g)\n",
    "rmseTest = calculate_rmse(predictionsOnTestset, penguins_test.body_mass_g)\n",
    "\n",
    "print(\"RMSE on training set \" + str(rmseTrain))\n",
    "print(\"RMSE on test set \" + str(rmseTest))"
   ]
  },
  {
   "cell_type": "markdown",
   "metadata": {},
   "source": [
    "The difference between the training set and the test set is approximately 50 grams. That is not a lot imo, since that means the model isn't to overfitted. Also, a RMSE of 400 grams where most penguins are approximately 3.5 to 5.5 kilos sounds about right as well."
   ]
  },
  {
   "cell_type": "code",
   "execution_count": 11,
   "metadata": {},
   "outputs": [
    {
     "data": {
      "image/svg+xml": "<?xml version=\"1.0\" encoding=\"UTF-8\" standalone=\"no\"?>\r\n<!DOCTYPE svg PUBLIC \"-//W3C//DTD SVG 1.1//EN\"\r\n \"http://www.w3.org/Graphics/SVG/1.1/DTD/svg11.dtd\">\r\n<!-- Generated by graphviz version 2.38.0 (20140413.2041)\r\n -->\r\n<!-- Title: Tree Pages: 1 -->\r\n<svg width=\"1678pt\" height=\"373pt\"\r\n viewBox=\"0.00 0.00 1678.00 373.00\" xmlns=\"http://www.w3.org/2000/svg\" xmlns:xlink=\"http://www.w3.org/1999/xlink\">\r\n<g id=\"graph0\" class=\"graph\" transform=\"scale(1 1) rotate(0) translate(4 369)\">\r\n<title>Tree</title>\r\n<polygon fill=\"white\" stroke=\"none\" points=\"-4,4 -4,-369 1674,-369 1674,4 -4,4\"/>\r\n<!-- 0 -->\r\n<g id=\"node1\" class=\"node\"><title>0</title>\r\n<path fill=\"#f7d8c2\" stroke=\"black\" d=\"M937,-365C937,-365 769,-365 769,-365 763,-365 757,-359 757,-353 757,-353 757,-309 757,-309 757,-303 763,-297 769,-297 769,-297 937,-297 937,-297 943,-297 949,-303 949,-309 949,-309 949,-353 949,-353 949,-359 943,-365 937,-365\"/>\r\n<text text-anchor=\"start\" x=\"767.5\" y=\"-349.8\" font-family=\"Helvetica,sans-Serif\" font-size=\"14.00\">flipper_length_mm ≤ 210.5</text>\r\n<text text-anchor=\"start\" x=\"765\" y=\"-334.8\" font-family=\"Helvetica,sans-Serif\" font-size=\"14.00\">squared_error = 644479.66</text>\r\n<text text-anchor=\"start\" x=\"805.5\" y=\"-319.8\" font-family=\"Helvetica,sans-Serif\" font-size=\"14.00\">samples = 233</text>\r\n<text text-anchor=\"start\" x=\"797.5\" y=\"-304.8\" font-family=\"Helvetica,sans-Serif\" font-size=\"14.00\">value = 4230.901</text>\r\n</g>\r\n<!-- 1 -->\r\n<g id=\"node2\" class=\"node\"><title>1</title>\r\n<path fill=\"#fcf2eb\" stroke=\"black\" d=\"M729,-261C729,-261 553,-261 553,-261 547,-261 541,-255 541,-249 541,-249 541,-205 541,-205 541,-199 547,-193 553,-193 553,-193 729,-193 729,-193 735,-193 741,-199 741,-205 741,-205 741,-249 741,-249 741,-255 735,-261 729,-261\"/>\r\n<text text-anchor=\"start\" x=\"555.5\" y=\"-245.8\" font-family=\"Helvetica,sans-Serif\" font-size=\"14.00\">flipper_length_mm ≤ 202.5</text>\r\n<text text-anchor=\"start\" x=\"549\" y=\"-230.8\" font-family=\"Helvetica,sans-Serif\" font-size=\"14.00\">squared_error = 211257.157</text>\r\n<text text-anchor=\"start\" x=\"593.5\" y=\"-215.8\" font-family=\"Helvetica,sans-Serif\" font-size=\"14.00\">samples = 164</text>\r\n<text text-anchor=\"start\" x=\"585.5\" y=\"-200.8\" font-family=\"Helvetica,sans-Serif\" font-size=\"14.00\">value = 3803.963</text>\r\n</g>\r\n<!-- 0&#45;&gt;1 -->\r\n<g id=\"edge1\" class=\"edge\"><title>0&#45;&gt;1</title>\r\n<path fill=\"none\" stroke=\"black\" d=\"M784.17,-296.884C763.329,-286.856 740.293,-275.773 718.903,-265.482\"/>\r\n<polygon fill=\"black\" stroke=\"black\" points=\"720.376,-262.306 709.847,-261.125 717.341,-268.614 720.376,-262.306\"/>\r\n<text text-anchor=\"middle\" x=\"718.113\" y=\"-281.019\" font-family=\"Helvetica,sans-Serif\" font-size=\"14.00\">True</text>\r\n</g>\r\n<!-- 8 -->\r\n<g id=\"node9\" class=\"node\"><title>8</title>\r\n<path fill=\"#ea9a60\" stroke=\"black\" d=\"M1139,-261C1139,-261 971,-261 971,-261 965,-261 959,-255 959,-249 959,-249 959,-205 959,-205 959,-199 965,-193 971,-193 971,-193 1139,-193 1139,-193 1145,-193 1151,-199 1151,-205 1151,-205 1151,-249 1151,-249 1151,-255 1145,-261 1139,-261\"/>\r\n<text text-anchor=\"start\" x=\"969.5\" y=\"-245.8\" font-family=\"Helvetica,sans-Serif\" font-size=\"14.00\">flipper_length_mm ≤ 219.5</text>\r\n<text text-anchor=\"start\" x=\"967\" y=\"-230.8\" font-family=\"Helvetica,sans-Serif\" font-size=\"14.00\">squared_error = 211212.98</text>\r\n<text text-anchor=\"start\" x=\"1011.5\" y=\"-215.8\" font-family=\"Helvetica,sans-Serif\" font-size=\"14.00\">samples = 69</text>\r\n<text text-anchor=\"start\" x=\"999.5\" y=\"-200.8\" font-family=\"Helvetica,sans-Serif\" font-size=\"14.00\">value = 5245.652</text>\r\n</g>\r\n<!-- 0&#45;&gt;8 -->\r\n<g id=\"edge8\" class=\"edge\"><title>0&#45;&gt;8</title>\r\n<path fill=\"none\" stroke=\"black\" d=\"M918.584,-296.884C938.264,-286.946 959.999,-275.971 980.225,-265.757\"/>\r\n<polygon fill=\"black\" stroke=\"black\" points=\"982.051,-268.757 989.4,-261.125 978.896,-262.508 982.051,-268.757\"/>\r\n<text text-anchor=\"middle\" x=\"981.588\" y=\"-281.173\" font-family=\"Helvetica,sans-Serif\" font-size=\"14.00\">False</text>\r\n</g>\r\n<!-- 2 -->\r\n<g id=\"node3\" class=\"node\"><title>2</title>\r\n<path fill=\"#fef9f6\" stroke=\"black\" d=\"M406,-157C406,-157 230,-157 230,-157 224,-157 218,-151 218,-145 218,-145 218,-101 218,-101 218,-95 224,-89 230,-89 230,-89 406,-89 406,-89 412,-89 418,-95 418,-101 418,-101 418,-145 418,-145 418,-151 412,-157 406,-157\"/>\r\n<text text-anchor=\"start\" x=\"232.5\" y=\"-141.8\" font-family=\"Helvetica,sans-Serif\" font-size=\"14.00\">flipper_length_mm ≤ 194.5</text>\r\n<text text-anchor=\"start\" x=\"226\" y=\"-126.8\" font-family=\"Helvetica,sans-Serif\" font-size=\"14.00\">squared_error = 152694.869</text>\r\n<text text-anchor=\"start\" x=\"270.5\" y=\"-111.8\" font-family=\"Helvetica,sans-Serif\" font-size=\"14.00\">samples = 137</text>\r\n<text text-anchor=\"start\" x=\"262.5\" y=\"-96.8\" font-family=\"Helvetica,sans-Serif\" font-size=\"14.00\">value = 3690.146</text>\r\n</g>\r\n<!-- 1&#45;&gt;2 -->\r\n<g id=\"edge2\" class=\"edge\"><title>1&#45;&gt;2</title>\r\n<path fill=\"none\" stroke=\"black\" d=\"M540.571,-194.286C504.787,-182.985 464.31,-170.203 427.781,-158.668\"/>\r\n<polygon fill=\"black\" stroke=\"black\" points=\"428.679,-155.281 418.089,-155.607 426.571,-161.956 428.679,-155.281\"/>\r\n</g>\r\n<!-- 5 -->\r\n<g id=\"node6\" class=\"node\"><title>5</title>\r\n<path fill=\"#f5cfb3\" stroke=\"black\" d=\"M729,-157C729,-157 553,-157 553,-157 547,-157 541,-151 541,-145 541,-145 541,-101 541,-101 541,-95 547,-89 553,-89 553,-89 729,-89 729,-89 735,-89 741,-95 741,-101 741,-101 741,-145 741,-145 741,-151 735,-157 729,-157\"/>\r\n<text text-anchor=\"start\" x=\"567\" y=\"-141.8\" font-family=\"Helvetica,sans-Serif\" font-size=\"14.00\">bill_length_mm ≤ 48.85</text>\r\n<text text-anchor=\"start\" x=\"549\" y=\"-126.8\" font-family=\"Helvetica,sans-Serif\" font-size=\"14.00\">squared_error = 109147.805</text>\r\n<text text-anchor=\"start\" x=\"597.5\" y=\"-111.8\" font-family=\"Helvetica,sans-Serif\" font-size=\"14.00\">samples = 27</text>\r\n<text text-anchor=\"start\" x=\"585.5\" y=\"-96.8\" font-family=\"Helvetica,sans-Serif\" font-size=\"14.00\">value = 4381.481</text>\r\n</g>\r\n<!-- 1&#45;&gt;5 -->\r\n<g id=\"edge5\" class=\"edge\"><title>1&#45;&gt;5</title>\r\n<path fill=\"none\" stroke=\"black\" d=\"M641,-192.884C641,-184.778 641,-175.982 641,-167.472\"/>\r\n<polygon fill=\"black\" stroke=\"black\" points=\"644.5,-167.299 641,-157.299 637.5,-167.299 644.5,-167.299\"/>\r\n</g>\r\n<!-- 3 -->\r\n<g id=\"node4\" class=\"node\"><title>3</title>\r\n<path fill=\"#ffffff\" stroke=\"black\" d=\"M188,-53C188,-53 12,-53 12,-53 6,-53 0,-47 0,-41 0,-41 0,-12 0,-12 0,-6 6,-0 12,-0 12,-0 188,-0 188,-0 194,-0 200,-6 200,-12 200,-12 200,-41 200,-41 200,-47 194,-53 188,-53\"/>\r\n<text text-anchor=\"start\" x=\"8\" y=\"-37.8\" font-family=\"Helvetica,sans-Serif\" font-size=\"14.00\">squared_error = 135322.222</text>\r\n<text text-anchor=\"start\" x=\"56.5\" y=\"-22.8\" font-family=\"Helvetica,sans-Serif\" font-size=\"14.00\">samples = 90</text>\r\n<text text-anchor=\"start\" x=\"53\" y=\"-7.8\" font-family=\"Helvetica,sans-Serif\" font-size=\"14.00\">value = 3595.0</text>\r\n</g>\r\n<!-- 2&#45;&gt;3 -->\r\n<g id=\"edge3\" class=\"edge\"><title>2&#45;&gt;3</title>\r\n<path fill=\"none\" stroke=\"black\" d=\"M241.754,-88.9485C217.905,-78.6102 191.75,-67.2722 168.47,-57.1809\"/>\r\n<polygon fill=\"black\" stroke=\"black\" points=\"169.592,-53.8527 159.025,-53.0867 166.808,-60.2753 169.592,-53.8527\"/>\r\n</g>\r\n<!-- 4 -->\r\n<g id=\"node5\" class=\"node\"><title>4</title>\r\n<path fill=\"#fbeee4\" stroke=\"black\" d=\"M406,-53C406,-53 230,-53 230,-53 224,-53 218,-47 218,-41 218,-41 218,-12 218,-12 218,-6 224,-0 230,-0 230,-0 406,-0 406,-0 412,-0 418,-6 418,-12 418,-12 418,-41 418,-41 418,-47 412,-53 406,-53\"/>\r\n<text text-anchor=\"start\" x=\"226\" y=\"-37.8\" font-family=\"Helvetica,sans-Serif\" font-size=\"14.00\">squared_error = 135431.756</text>\r\n<text text-anchor=\"start\" x=\"274.5\" y=\"-22.8\" font-family=\"Helvetica,sans-Serif\" font-size=\"14.00\">samples = 47</text>\r\n<text text-anchor=\"start\" x=\"266.5\" y=\"-7.8\" font-family=\"Helvetica,sans-Serif\" font-size=\"14.00\">value = 3872.34</text>\r\n</g>\r\n<!-- 2&#45;&gt;4 -->\r\n<g id=\"edge4\" class=\"edge\"><title>2&#45;&gt;4</title>\r\n<path fill=\"none\" stroke=\"black\" d=\"M318,-88.9485C318,-80.7153 318,-71.848 318,-63.4814\"/>\r\n<polygon fill=\"black\" stroke=\"black\" points=\"321.5,-63.2367 318,-53.2367 314.5,-63.2367 321.5,-63.2367\"/>\r\n</g>\r\n<!-- 6 -->\r\n<g id=\"node7\" class=\"node\"><title>6</title>\r\n<path fill=\"#f4caac\" stroke=\"black\" d=\"M624,-53C624,-53 448,-53 448,-53 442,-53 436,-47 436,-41 436,-41 436,-12 436,-12 436,-6 442,-0 448,-0 448,-0 624,-0 624,-0 630,-0 636,-6 636,-12 636,-12 636,-41 636,-41 636,-47 630,-53 624,-53\"/>\r\n<text text-anchor=\"start\" x=\"444\" y=\"-37.8\" font-family=\"Helvetica,sans-Serif\" font-size=\"14.00\">squared_error = 101533.934</text>\r\n<text text-anchor=\"start\" x=\"492.5\" y=\"-22.8\" font-family=\"Helvetica,sans-Serif\" font-size=\"14.00\">samples = 19</text>\r\n<text text-anchor=\"start\" x=\"480.5\" y=\"-7.8\" font-family=\"Helvetica,sans-Serif\" font-size=\"14.00\">value = 4460.526</text>\r\n</g>\r\n<!-- 5&#45;&gt;6 -->\r\n<g id=\"edge6\" class=\"edge\"><title>5&#45;&gt;6</title>\r\n<path fill=\"none\" stroke=\"black\" d=\"M604.276,-88.9485C593.908,-79.6175 582.636,-69.4722 572.293,-60.1641\"/>\r\n<polygon fill=\"black\" stroke=\"black\" points=\"574.371,-57.3248 564.596,-53.2367 569.688,-62.5279 574.371,-57.3248\"/>\r\n</g>\r\n<!-- 7 -->\r\n<g id=\"node8\" class=\"node\"><title>7</title>\r\n<path fill=\"#f7dac5\" stroke=\"black\" d=\"M834,-53C834,-53 666,-53 666,-53 660,-53 654,-47 654,-41 654,-41 654,-12 654,-12 654,-6 660,-0 666,-0 666,-0 834,-0 834,-0 840,-0 846,-6 846,-12 846,-12 846,-41 846,-41 846,-47 840,-53 834,-53\"/>\r\n<text text-anchor=\"start\" x=\"662\" y=\"-37.8\" font-family=\"Helvetica,sans-Serif\" font-size=\"14.00\">squared_error = 77148.438</text>\r\n<text text-anchor=\"start\" x=\"710.5\" y=\"-22.8\" font-family=\"Helvetica,sans-Serif\" font-size=\"14.00\">samples = 8</text>\r\n<text text-anchor=\"start\" x=\"698.5\" y=\"-7.8\" font-family=\"Helvetica,sans-Serif\" font-size=\"14.00\">value = 4193.75</text>\r\n</g>\r\n<!-- 5&#45;&gt;7 -->\r\n<g id=\"edge7\" class=\"edge\"><title>5&#45;&gt;7</title>\r\n<path fill=\"none\" stroke=\"black\" d=\"M679.123,-88.9485C689.991,-79.526 701.817,-69.2731 712.639,-59.8906\"/>\r\n<polygon fill=\"black\" stroke=\"black\" points=\"715.051,-62.4319 720.314,-53.2367 710.466,-57.1428 715.051,-62.4319\"/>\r\n</g>\r\n<!-- 9 -->\r\n<g id=\"node10\" class=\"node\"><title>9</title>\r\n<path fill=\"#eda877\" stroke=\"black\" d=\"M1139,-157C1139,-157 971,-157 971,-157 965,-157 959,-151 959,-145 959,-145 959,-101 959,-101 959,-95 965,-89 971,-89 971,-89 1139,-89 1139,-89 1145,-89 1151,-95 1151,-101 1151,-101 1151,-145 1151,-145 1151,-151 1145,-157 1139,-157\"/>\r\n<text text-anchor=\"start\" x=\"981\" y=\"-141.8\" font-family=\"Helvetica,sans-Serif\" font-size=\"14.00\">bill_length_mm ≤ 49.75</text>\r\n<text text-anchor=\"start\" x=\"967\" y=\"-126.8\" font-family=\"Helvetica,sans-Serif\" font-size=\"14.00\">squared_error = 156193.75</text>\r\n<text text-anchor=\"start\" x=\"1011.5\" y=\"-111.8\" font-family=\"Helvetica,sans-Serif\" font-size=\"14.00\">samples = 40</text>\r\n<text text-anchor=\"start\" x=\"1008\" y=\"-96.8\" font-family=\"Helvetica,sans-Serif\" font-size=\"14.00\">value = 5007.5</text>\r\n</g>\r\n<!-- 8&#45;&gt;9 -->\r\n<g id=\"edge9\" class=\"edge\"><title>8&#45;&gt;9</title>\r\n<path fill=\"none\" stroke=\"black\" d=\"M1055,-192.884C1055,-184.778 1055,-175.982 1055,-167.472\"/>\r\n<polygon fill=\"black\" stroke=\"black\" points=\"1058.5,-167.299 1055,-157.299 1051.5,-167.299 1058.5,-167.299\"/>\r\n</g>\r\n<!-- 12 -->\r\n<g id=\"node13\" class=\"node\"><title>12</title>\r\n<path fill=\"#e68641\" stroke=\"black\" d=\"M1452,-157C1452,-157 1276,-157 1276,-157 1270,-157 1264,-151 1264,-145 1264,-145 1264,-101 1264,-101 1264,-95 1270,-89 1276,-89 1276,-89 1452,-89 1452,-89 1458,-89 1464,-95 1464,-101 1464,-101 1464,-145 1464,-145 1464,-151 1458,-157 1452,-157\"/>\r\n<text text-anchor=\"start\" x=\"1290\" y=\"-141.8\" font-family=\"Helvetica,sans-Serif\" font-size=\"14.00\">bill_length_mm ≤ 48.55</text>\r\n<text text-anchor=\"start\" x=\"1272\" y=\"-126.8\" font-family=\"Helvetica,sans-Serif\" font-size=\"14.00\">squared_error = 100969.084</text>\r\n<text text-anchor=\"start\" x=\"1320.5\" y=\"-111.8\" font-family=\"Helvetica,sans-Serif\" font-size=\"14.00\">samples = 29</text>\r\n<text text-anchor=\"start\" x=\"1308.5\" y=\"-96.8\" font-family=\"Helvetica,sans-Serif\" font-size=\"14.00\">value = 5574.138</text>\r\n</g>\r\n<!-- 8&#45;&gt;12 -->\r\n<g id=\"edge12\" class=\"edge\"><title>8&#45;&gt;12</title>\r\n<path fill=\"none\" stroke=\"black\" d=\"M1151.08,-194.286C1183.73,-183.507 1220.46,-171.381 1254.11,-160.274\"/>\r\n<polygon fill=\"black\" stroke=\"black\" points=\"1255.58,-163.475 1263.98,-157.017 1253.39,-156.828 1255.58,-163.475\"/>\r\n</g>\r\n<!-- 10 -->\r\n<g id=\"node11\" class=\"node\"><title>10</title>\r\n<path fill=\"#eeac7d\" stroke=\"black\" d=\"M1044,-53C1044,-53 876,-53 876,-53 870,-53 864,-47 864,-41 864,-41 864,-12 864,-12 864,-6 870,-0 876,-0 876,-0 1044,-0 1044,-0 1050,-0 1056,-6 1056,-12 1056,-12 1056,-41 1056,-41 1056,-47 1050,-53 1044,-53\"/>\r\n<text text-anchor=\"start\" x=\"872\" y=\"-37.8\" font-family=\"Helvetica,sans-Serif\" font-size=\"14.00\">squared_error = 131913.58</text>\r\n<text text-anchor=\"start\" x=\"916.5\" y=\"-22.8\" font-family=\"Helvetica,sans-Serif\" font-size=\"14.00\">samples = 36</text>\r\n<text text-anchor=\"start\" x=\"904.5\" y=\"-7.8\" font-family=\"Helvetica,sans-Serif\" font-size=\"14.00\">value = 4944.444</text>\r\n</g>\r\n<!-- 9&#45;&gt;10 -->\r\n<g id=\"edge10\" class=\"edge\"><title>9&#45;&gt;10</title>\r\n<path fill=\"none\" stroke=\"black\" d=\"M1021.77,-88.9485C1012.49,-79.709 1002.39,-69.671 993.112,-60.4381\"/>\r\n<polygon fill=\"black\" stroke=\"black\" points=\"995.431,-57.8077 985.873,-53.2367 990.494,-62.7705 995.431,-57.8077\"/>\r\n</g>\r\n<!-- 11 -->\r\n<g id=\"node12\" class=\"node\"><title>11</title>\r\n<path fill=\"#e68640\" stroke=\"black\" d=\"M1238,-53C1238,-53 1086,-53 1086,-53 1080,-53 1074,-47 1074,-41 1074,-41 1074,-12 1074,-12 1074,-6 1080,-0 1086,-0 1086,-0 1238,-0 1238,-0 1244,-0 1250,-6 1250,-12 1250,-12 1250,-41 1250,-41 1250,-47 1244,-53 1238,-53\"/>\r\n<text text-anchor=\"start\" x=\"1082\" y=\"-37.8\" font-family=\"Helvetica,sans-Serif\" font-size=\"14.00\">squared_error = 16875.0</text>\r\n<text text-anchor=\"start\" x=\"1122.5\" y=\"-22.8\" font-family=\"Helvetica,sans-Serif\" font-size=\"14.00\">samples = 4</text>\r\n<text text-anchor=\"start\" x=\"1115\" y=\"-7.8\" font-family=\"Helvetica,sans-Serif\" font-size=\"14.00\">value = 5575.0</text>\r\n</g>\r\n<!-- 9&#45;&gt;11 -->\r\n<g id=\"edge11\" class=\"edge\"><title>9&#45;&gt;11</title>\r\n<path fill=\"none\" stroke=\"black\" d=\"M1092.42,-88.9485C1103.09,-79.526 1114.7,-69.2731 1125.32,-59.8906\"/>\r\n<polygon fill=\"black\" stroke=\"black\" points=\"1127.68,-62.4798 1132.86,-53.2367 1123.05,-57.2331 1127.68,-62.4798\"/>\r\n</g>\r\n<!-- 13 -->\r\n<g id=\"node14\" class=\"node\"><title>13</title>\r\n<path fill=\"#e99558\" stroke=\"black\" d=\"M1448,-53C1448,-53 1280,-53 1280,-53 1274,-53 1268,-47 1268,-41 1268,-41 1268,-12 1268,-12 1268,-6 1274,-0 1280,-0 1280,-0 1448,-0 1448,-0 1454,-0 1460,-6 1460,-12 1460,-12 1460,-41 1460,-41 1460,-47 1454,-53 1448,-53\"/>\r\n<text text-anchor=\"start\" x=\"1276\" y=\"-37.8\" font-family=\"Helvetica,sans-Serif\" font-size=\"14.00\">squared_error = 79897.959</text>\r\n<text text-anchor=\"start\" x=\"1324.5\" y=\"-22.8\" font-family=\"Helvetica,sans-Serif\" font-size=\"14.00\">samples = 7</text>\r\n<text text-anchor=\"start\" x=\"1308.5\" y=\"-7.8\" font-family=\"Helvetica,sans-Serif\" font-size=\"14.00\">value = 5328.571</text>\r\n</g>\r\n<!-- 12&#45;&gt;13 -->\r\n<g id=\"edge13\" class=\"edge\"><title>12&#45;&gt;13</title>\r\n<path fill=\"none\" stroke=\"black\" d=\"M1364,-88.9485C1364,-80.7153 1364,-71.848 1364,-63.4814\"/>\r\n<polygon fill=\"black\" stroke=\"black\" points=\"1367.5,-63.2367 1364,-53.2367 1360.5,-63.2367 1367.5,-63.2367\"/>\r\n</g>\r\n<!-- 14 -->\r\n<g id=\"node15\" class=\"node\"><title>14</title>\r\n<path fill=\"#e58139\" stroke=\"black\" d=\"M1658,-53C1658,-53 1490,-53 1490,-53 1484,-53 1478,-47 1478,-41 1478,-41 1478,-12 1478,-12 1478,-6 1484,-0 1490,-0 1490,-0 1658,-0 1658,-0 1664,-0 1670,-6 1670,-12 1670,-12 1670,-41 1670,-41 1670,-47 1664,-53 1658,-53\"/>\r\n<text text-anchor=\"start\" x=\"1486\" y=\"-37.8\" font-family=\"Helvetica,sans-Serif\" font-size=\"14.00\">squared_error = 82381.198</text>\r\n<text text-anchor=\"start\" x=\"1530.5\" y=\"-22.8\" font-family=\"Helvetica,sans-Serif\" font-size=\"14.00\">samples = 22</text>\r\n<text text-anchor=\"start\" x=\"1518.5\" y=\"-7.8\" font-family=\"Helvetica,sans-Serif\" font-size=\"14.00\">value = 5652.273</text>\r\n</g>\r\n<!-- 12&#45;&gt;14 -->\r\n<g id=\"edge14\" class=\"edge\"><title>12&#45;&gt;14</title>\r\n<path fill=\"none\" stroke=\"black\" d=\"M1437.45,-88.9485C1460.32,-78.6562 1485.39,-67.3729 1507.74,-57.3155\"/>\r\n<polygon fill=\"black\" stroke=\"black\" points=\"1509.46,-60.3821 1517.14,-53.0867 1506.59,-53.9987 1509.46,-60.3821\"/>\r\n</g>\r\n</g>\r\n</svg>\r\n",
      "text/plain": [
       "<graphviz.files.Source at 0x1f016b5fb80>"
      ]
     },
     "execution_count": 11,
     "metadata": {},
     "output_type": "execute_result"
    }
   ],
   "source": [
    "plot_tree_regression(dt_regression, features)"
   ]
  },
  {
   "cell_type": "markdown",
   "metadata": {},
   "source": [
    "The tree shows that the larger the flipper is, the heavier the penguin. Makes sense"
   ]
  }
 ],
 "metadata": {
  "interpreter": {
   "hash": "dade5c64266412dac4e485e5d511f19ec86909a3f4b4bbd7c64cf788437fc9ff"
  },
  "kernelspec": {
   "display_name": "Python 3.9.7 ('base')",
   "language": "python",
   "name": "python3"
  },
  "language_info": {
   "codemirror_mode": {
    "name": "ipython",
    "version": 3
   },
   "file_extension": ".py",
   "mimetype": "text/x-python",
   "name": "python",
   "nbconvert_exporter": "python",
   "pygments_lexer": "ipython3",
   "version": "3.9.7"
  },
  "orig_nbformat": 4
 },
 "nbformat": 4,
 "nbformat_minor": 2
}
