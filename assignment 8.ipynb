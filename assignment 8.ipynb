{
 "cells": [
  {
   "cell_type": "code",
   "execution_count": 24,
   "metadata": {},
   "outputs": [],
   "source": [
    "import pandas as pd"
   ]
  },
  {
   "cell_type": "code",
   "execution_count": 25,
   "metadata": {},
   "outputs": [],
   "source": [
    "import seaborn as sns"
   ]
  },
  {
   "cell_type": "code",
   "execution_count": 26,
   "metadata": {},
   "outputs": [],
   "source": [
    "df = pd.read_csv('steam.csv', sep=',')"
   ]
  },
  {
   "cell_type": "code",
   "execution_count": 27,
   "metadata": {},
   "outputs": [],
   "source": [
    "df.pop('appid')\n",
    "# Convert english too boolean\n",
    "df['english'] = df['english'].astype('bool')\n",
    "# set release date to datetime\n",
    "df['release_date'] = pd.to_datetime(df['release_date'])\n",
    "# create 3 seperate platform fields instead of 1\n",
    "df['windows'], df['mac'], df['linux'] = df['platforms'].apply(lambda x: 'windows' in x),df['platforms'].apply(lambda x: 'mac' in x),df['platforms'].apply(lambda x: 'linux' in x)\n",
    "df.drop(columns='platforms', inplace=True)\n",
    "df['owners_low'] = df['owners'].apply(lambda x: x.split('-')[0]).astype('int')\n",
    "df['owners_high'] = df['owners'].apply(lambda x: x.split('-')[1]).astype('int')\n",
    "df['release_year'] = df['release_date'].dt.year\n",
    "df.drop(columns='owners', inplace=True)\n",
    "genres = df['genres'].apply(lambda x: x.split(';')[0])"
   ]
  },
  {
   "cell_type": "code",
   "execution_count": 28,
   "metadata": {},
   "outputs": [],
   "source": [
    "medianPlaytimeFilter = df['median_playtime']> 0.5\n",
    "ownersFilter = df['owners_low'] > 20000 #lowest range above 0\n",
    "reviewFilter = df['positive_ratings'] > 5\n",
    "noFreeGameFilter = df['price'] > 0.1"
   ]
  },
  {
   "cell_type": "code",
   "execution_count": 29,
   "metadata": {},
   "outputs": [
    {
     "name": "stdout",
     "output_type": "stream",
     "text": [
      "<class 'pandas.core.frame.DataFrame'>\n",
      "RangeIndex: 27075 entries, 0 to 27074\n",
      "Data columns (total 21 columns):\n",
      " #   Column            Non-Null Count  Dtype         \n",
      "---  ------            --------------  -----         \n",
      " 0   name              27075 non-null  object        \n",
      " 1   release_date      27075 non-null  datetime64[ns]\n",
      " 2   english           27075 non-null  bool          \n",
      " 3   developer         27075 non-null  object        \n",
      " 4   publisher         27075 non-null  object        \n",
      " 5   required_age      27075 non-null  int64         \n",
      " 6   categories        27075 non-null  object        \n",
      " 7   genres            27075 non-null  object        \n",
      " 8   steamspy_tags     27075 non-null  object        \n",
      " 9   achievements      27075 non-null  int64         \n",
      " 10  positive_ratings  27075 non-null  int64         \n",
      " 11  negative_ratings  27075 non-null  int64         \n",
      " 12  average_playtime  27075 non-null  int64         \n",
      " 13  median_playtime   27075 non-null  int64         \n",
      " 14  price             27075 non-null  float64       \n",
      " 15  windows           27075 non-null  bool          \n",
      " 16  mac               27075 non-null  bool          \n",
      " 17  linux             27075 non-null  bool          \n",
      " 18  owners_low        27075 non-null  int32         \n",
      " 19  owners_high       27075 non-null  int32         \n",
      " 20  release_year      27075 non-null  int64         \n",
      "dtypes: bool(4), datetime64[ns](1), float64(1), int32(2), int64(7), object(6)\n",
      "memory usage: 3.4+ MB\n"
     ]
    }
   ],
   "source": [
    "df.info()"
   ]
  },
  {
   "cell_type": "markdown",
   "metadata": {},
   "source": [
    "# Price"
   ]
  },
  {
   "cell_type": "code",
   "execution_count": 30,
   "metadata": {},
   "outputs": [
    {
     "data": {
      "text/plain": [
       "(7.294043583940756, 7.650176837453336)"
      ]
     },
     "execution_count": 30,
     "metadata": {},
     "output_type": "execute_result"
    }
   ],
   "source": [
    "import scipy.stats as st\n",
    "confidence = 0.90\n",
    "st.t.interval(confidence, len(df)-1, loc=df[medianPlaytimeFilter]['price'].mean(), scale=st.sem(df[medianPlaytimeFilter]['price']))"
   ]
  },
  {
   "cell_type": "markdown",
   "metadata": {},
   "source": [
    "Half of the rows"
   ]
  },
  {
   "cell_type": "code",
   "execution_count": 31,
   "metadata": {},
   "outputs": [
    {
     "data": {
      "text/plain": [
       "(7.054088674264124, 7.532322995104241)"
      ]
     },
     "execution_count": 31,
     "metadata": {},
     "output_type": "execute_result"
    }
   ],
   "source": [
    "import scipy.stats as st\n",
    "confidence = 0.90\n",
    "sample = df[medianPlaytimeFilter].sample(frac = 0.5)\n",
    "st.t.interval(confidence, len(df)-1, loc=sample['price'].mean(), scale=st.sem(sample['price']))"
   ]
  },
  {
   "cell_type": "code",
   "execution_count": 32,
   "metadata": {},
   "outputs": [
    {
     "data": {
      "text/plain": [
       "(7.259928512324668, 7.684291909069424)"
      ]
     },
     "execution_count": 32,
     "metadata": {},
     "output_type": "execute_result"
    }
   ],
   "source": [
    "import scipy.stats as st\n",
    "confidence = 0.95\n",
    "st.t.interval(confidence, len(df)-1, loc=df[medianPlaytimeFilter]['price'].mean(), scale=st.sem(df[medianPlaytimeFilter]['price']))"
   ]
  },
  {
   "cell_type": "code",
   "execution_count": 33,
   "metadata": {},
   "outputs": [
    {
     "data": {
      "text/plain": [
       "(7.193248997268224, 7.7509714241258685)"
      ]
     },
     "execution_count": 33,
     "metadata": {},
     "output_type": "execute_result"
    }
   ],
   "source": [
    "import scipy.stats as st\n",
    "confidence = 0.99\n",
    "st.t.interval(confidence, len(df)-1, loc=df[medianPlaytimeFilter]['price'].mean(), scale=st.sem(df[medianPlaytimeFilter]['price']))"
   ]
  },
  {
   "cell_type": "code",
   "execution_count": 34,
   "metadata": {},
   "outputs": [
    {
     "data": {
      "text/plain": [
       "(7.050878743061757, 7.893341678332336)"
      ]
     },
     "execution_count": 34,
     "metadata": {},
     "output_type": "execute_result"
    }
   ],
   "source": [
    "import scipy.stats as st\n",
    "confidence = 0.9999\n",
    "st.t.interval(confidence, len(df)-1, loc=df[medianPlaytimeFilter]['price'].mean(), scale=st.sem(df[medianPlaytimeFilter]['price']))"
   ]
  },
  {
   "cell_type": "markdown",
   "metadata": {},
   "source": [
    "# Release year"
   ]
  },
  {
   "cell_type": "code",
   "execution_count": 35,
   "metadata": {},
   "outputs": [
    {
     "data": {
      "text/plain": [
       "(2014.9515874846857, 2015.083420619042)"
      ]
     },
     "execution_count": 35,
     "metadata": {},
     "output_type": "execute_result"
    }
   ],
   "source": [
    "import scipy.stats as st\n",
    "confidence = 0.95\n",
    "st.t.interval(confidence, len(df)-1, loc=df[medianPlaytimeFilter]['release_year'].mean(), scale=st.sem(df[medianPlaytimeFilter]['release_year' ]))"
   ]
  },
  {
   "cell_type": "markdown",
   "metadata": {},
   "source": [
    "Half of the rows"
   ]
  },
  {
   "cell_type": "code",
   "execution_count": 36,
   "metadata": {},
   "outputs": [
    {
     "data": {
      "text/plain": [
       "(2014.92503243669, 2015.0814505454819)"
      ]
     },
     "execution_count": 36,
     "metadata": {},
     "output_type": "execute_result"
    }
   ],
   "source": [
    "import scipy.stats as st\n",
    "confidence = 0.90\n",
    "sample = df[medianPlaytimeFilter].sample(frac = 0.5)\n",
    "st.t.interval(confidence, len(df)-1, loc=sample['release_year'].mean(), scale=st.sem(sample['release_year']))"
   ]
  },
  {
   "cell_type": "code",
   "execution_count": 37,
   "metadata": {},
   "outputs": [
    {
     "data": {
      "text/plain": [
       "(2014.9308727634475, 2015.1041353402802)"
      ]
     },
     "execution_count": 37,
     "metadata": {},
     "output_type": "execute_result"
    }
   ],
   "source": [
    "import scipy.stats as st\n",
    "confidence = 0.99\n",
    "st.t.interval(confidence, len(df)-1, loc=df[medianPlaytimeFilter]['release_year'].mean(), scale=st.sem(df[medianPlaytimeFilter]['release_year']))"
   ]
  },
  {
   "cell_type": "code",
   "execution_count": 38,
   "metadata": {},
   "outputs": [
    {
     "data": {
      "text/plain": [
       "(2014.886643885568, 2015.1483642181597)"
      ]
     },
     "execution_count": 38,
     "metadata": {},
     "output_type": "execute_result"
    }
   ],
   "source": [
    "import scipy.stats as st\n",
    "confidence = 0.9999\n",
    "st.t.interval(confidence, len(df)-1, loc=df[medianPlaytimeFilter]['release_year'].mean(), scale=st.sem(df[medianPlaytimeFilter]['release_year']))"
   ]
  }
 ],
 "metadata": {
  "interpreter": {
   "hash": "dade5c64266412dac4e485e5d511f19ec86909a3f4b4bbd7c64cf788437fc9ff"
  },
  "kernelspec": {
   "display_name": "Python 3.9.7 ('base')",
   "language": "python",
   "name": "python3"
  },
  "language_info": {
   "codemirror_mode": {
    "name": "ipython",
    "version": 3
   },
   "file_extension": ".py",
   "mimetype": "text/x-python",
   "name": "python",
   "nbconvert_exporter": "python",
   "pygments_lexer": "ipython3",
   "version": "3.9.7"
  },
  "orig_nbformat": 4
 },
 "nbformat": 4,
 "nbformat_minor": 2
}
