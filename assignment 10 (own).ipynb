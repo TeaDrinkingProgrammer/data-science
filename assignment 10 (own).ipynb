{
 "cells": [
  {
   "cell_type": "markdown",
   "metadata": {},
   "source": [
    "# Bivariate analysis using Pearson correlation and scatter plot of a combination of 2 columns on Melbourne dataset"
   ]
  },
  {
   "cell_type": "markdown",
   "metadata": {},
   "source": [
    "For the remaining excersices where numerical columns are needed, I will use the Melbourne Housing Market dataset  \n",
    "https://www.kaggle.com/anthonypino/melbourne-housing-market?select=MELBOURNE_HOUSE_PRICES_LESS.csv"
   ]
  },
  {
   "cell_type": "markdown",
   "metadata": {},
   "source": [
    "Some Key Details  \n",
    "\n",
    "Suburb: Suburb  \n",
    "\n",
    "Address: Address  \n",
    "\n",
    "Rooms: Number of rooms  \n",
    "\n",
    "Price: Price in Australian dollars  \n",
    "\n",
    "Method:  \n",
    "S - property sold;  \n",
    "SP - property sold prior;  \n",
    "PI - property passed in;  \n",
    "PN - sold prior not disclosed;  \n",
    "SN - sold not disclosed;  \n",
    "NB - no bid;  \n",
    "VB - vendor bid;  \n",
    "W - withdrawn prior to auction;  \n",
    "SA - sold after auction;  \n",
    "SS - sold after auction price not disclosed.  \n",
    "N/A - price or highest bid not available.  \n",
    "  \n",
    "Type:  \n",
    "br - bedroom(s);  \n",
    "h - house,cottage,villa, semi,terrace;  \n",
    "u - unit, duplex;  \n",
    "t - townhouse;  \n",
    "dev site - development site;  \n",
    "o res - other residential.  \n",
    "  \n",
    "SellerG: Real Estate Agent  \n",
    "  \n",
    "Distance: Distance from CBD (Central Business District) in Kilometres  \n",
    "  \n",
    "Date: Date sold  \n",
    "   \n",
    "Regionname: General Region (West, North West, North, North east …etc)  \n",
    "  \n",
    "Propertycount: Number of properties that exist in the suburb.  \n",
    "  \n",
    "Bedroom2 : Scraped # of Bedrooms (from different source)  \n",
    "  \n",
    "Bathroom: Number of Bathrooms  \n",
    "  \n",
    "Car: Number of carspots  \n",
    "  \n",
    "Landsize: Land Size in Metres  \n",
    "  \n",
    "BuildingArea: Building Size in Metres  \n",
    "  \n",
    "YearBuilt: Year the house was built  \n",
    "  \n",
    "CouncilArea: Governing council for the area  \n",
    "  \n",
    "Lattitude: Self explanitory  \n",
    "  \n",
    "Longtitude: Self explanitory  "
   ]
  },
  {
   "cell_type": "code",
   "execution_count": 1,
   "metadata": {},
   "outputs": [],
   "source": [
    "import pandas as pd\n",
    "import seaborn as sns"
   ]
  },
  {
   "cell_type": "code",
   "execution_count": 2,
   "metadata": {},
   "outputs": [
    {
     "data": {
      "text/html": [
       "<div>\n",
       "<style scoped>\n",
       "    .dataframe tbody tr th:only-of-type {\n",
       "        vertical-align: middle;\n",
       "    }\n",
       "\n",
       "    .dataframe tbody tr th {\n",
       "        vertical-align: top;\n",
       "    }\n",
       "\n",
       "    .dataframe thead th {\n",
       "        text-align: right;\n",
       "    }\n",
       "</style>\n",
       "<table border=\"1\" class=\"dataframe\">\n",
       "  <thead>\n",
       "    <tr style=\"text-align: right;\">\n",
       "      <th></th>\n",
       "      <th>Suburb</th>\n",
       "      <th>Address</th>\n",
       "      <th>Rooms</th>\n",
       "      <th>Type</th>\n",
       "      <th>Price</th>\n",
       "      <th>Method</th>\n",
       "      <th>SellerG</th>\n",
       "      <th>Date</th>\n",
       "      <th>Postcode</th>\n",
       "      <th>Regionname</th>\n",
       "      <th>Propertycount</th>\n",
       "      <th>Distance</th>\n",
       "      <th>CouncilArea</th>\n",
       "    </tr>\n",
       "  </thead>\n",
       "  <tbody>\n",
       "    <tr>\n",
       "      <th>0</th>\n",
       "      <td>Abbotsford</td>\n",
       "      <td>49 Lithgow St</td>\n",
       "      <td>3</td>\n",
       "      <td>h</td>\n",
       "      <td>1490000.0</td>\n",
       "      <td>S</td>\n",
       "      <td>Jellis</td>\n",
       "      <td>1/04/2017</td>\n",
       "      <td>3067</td>\n",
       "      <td>Northern Metropolitan</td>\n",
       "      <td>4019</td>\n",
       "      <td>3.0</td>\n",
       "      <td>Yarra City Council</td>\n",
       "    </tr>\n",
       "    <tr>\n",
       "      <th>1</th>\n",
       "      <td>Abbotsford</td>\n",
       "      <td>59A Turner St</td>\n",
       "      <td>3</td>\n",
       "      <td>h</td>\n",
       "      <td>1220000.0</td>\n",
       "      <td>S</td>\n",
       "      <td>Marshall</td>\n",
       "      <td>1/04/2017</td>\n",
       "      <td>3067</td>\n",
       "      <td>Northern Metropolitan</td>\n",
       "      <td>4019</td>\n",
       "      <td>3.0</td>\n",
       "      <td>Yarra City Council</td>\n",
       "    </tr>\n",
       "    <tr>\n",
       "      <th>2</th>\n",
       "      <td>Abbotsford</td>\n",
       "      <td>119B Yarra St</td>\n",
       "      <td>3</td>\n",
       "      <td>h</td>\n",
       "      <td>1420000.0</td>\n",
       "      <td>S</td>\n",
       "      <td>Nelson</td>\n",
       "      <td>1/04/2017</td>\n",
       "      <td>3067</td>\n",
       "      <td>Northern Metropolitan</td>\n",
       "      <td>4019</td>\n",
       "      <td>3.0</td>\n",
       "      <td>Yarra City Council</td>\n",
       "    </tr>\n",
       "    <tr>\n",
       "      <th>3</th>\n",
       "      <td>Aberfeldie</td>\n",
       "      <td>68 Vida St</td>\n",
       "      <td>3</td>\n",
       "      <td>h</td>\n",
       "      <td>1515000.0</td>\n",
       "      <td>S</td>\n",
       "      <td>Barry</td>\n",
       "      <td>1/04/2017</td>\n",
       "      <td>3040</td>\n",
       "      <td>Western Metropolitan</td>\n",
       "      <td>1543</td>\n",
       "      <td>7.5</td>\n",
       "      <td>Moonee Valley City Council</td>\n",
       "    </tr>\n",
       "    <tr>\n",
       "      <th>4</th>\n",
       "      <td>Airport West</td>\n",
       "      <td>92 Clydesdale Rd</td>\n",
       "      <td>2</td>\n",
       "      <td>h</td>\n",
       "      <td>670000.0</td>\n",
       "      <td>S</td>\n",
       "      <td>Nelson</td>\n",
       "      <td>1/04/2017</td>\n",
       "      <td>3042</td>\n",
       "      <td>Western Metropolitan</td>\n",
       "      <td>3464</td>\n",
       "      <td>10.4</td>\n",
       "      <td>Moonee Valley City Council</td>\n",
       "    </tr>\n",
       "  </tbody>\n",
       "</table>\n",
       "</div>"
      ],
      "text/plain": [
       "         Suburb           Address  Rooms Type      Price Method   SellerG  \\\n",
       "0    Abbotsford     49 Lithgow St      3    h  1490000.0      S    Jellis   \n",
       "1    Abbotsford     59A Turner St      3    h  1220000.0      S  Marshall   \n",
       "2    Abbotsford     119B Yarra St      3    h  1420000.0      S    Nelson   \n",
       "3    Aberfeldie        68 Vida St      3    h  1515000.0      S     Barry   \n",
       "4  Airport West  92 Clydesdale Rd      2    h   670000.0      S    Nelson   \n",
       "\n",
       "        Date  Postcode             Regionname  Propertycount  Distance  \\\n",
       "0  1/04/2017      3067  Northern Metropolitan           4019       3.0   \n",
       "1  1/04/2017      3067  Northern Metropolitan           4019       3.0   \n",
       "2  1/04/2017      3067  Northern Metropolitan           4019       3.0   \n",
       "3  1/04/2017      3040   Western Metropolitan           1543       7.5   \n",
       "4  1/04/2017      3042   Western Metropolitan           3464      10.4   \n",
       "\n",
       "                  CouncilArea  \n",
       "0          Yarra City Council  \n",
       "1          Yarra City Council  \n",
       "2          Yarra City Council  \n",
       "3  Moonee Valley City Council  \n",
       "4  Moonee Valley City Council  "
      ]
     },
     "execution_count": 2,
     "metadata": {},
     "output_type": "execute_result"
    }
   ],
   "source": [
    "df = pd.read_csv('melbourne_housing_prices.csv', sep=',')\n",
    "df.head()"
   ]
  },
  {
   "cell_type": "code",
   "execution_count": 3,
   "metadata": {},
   "outputs": [
    {
     "name": "stderr",
     "output_type": "stream",
     "text": [
      "C:\\Users\\Stijn\\AppData\\Local\\Temp/ipykernel_14048/2374652365.py:2: FutureWarning: this method is deprecated in favour of `Styler.format(precision=..)`\n",
      "  houseCorrelations.style.background_gradient(cmap='coolwarm', axis=None).set_precision(2)\n"
     ]
    },
    {
     "data": {
      "text/html": [
       "<style type=\"text/css\">\n",
       "#T_e3889_row0_col0, #T_e3889_row1_col1, #T_e3889_row2_col2, #T_e3889_row3_col3, #T_e3889_row4_col4 {\n",
       "  background-color: #b40426;\n",
       "  color: #f1f1f1;\n",
       "}\n",
       "#T_e3889_row0_col1, #T_e3889_row1_col0 {\n",
       "  background-color: #e5d8d1;\n",
       "  color: #000000;\n",
       "}\n",
       "#T_e3889_row0_col2, #T_e3889_row2_col0 {\n",
       "  background-color: #96b7ff;\n",
       "  color: #000000;\n",
       "}\n",
       "#T_e3889_row0_col3, #T_e3889_row3_col0 {\n",
       "  background-color: #6e90f2;\n",
       "  color: #f1f1f1;\n",
       "}\n",
       "#T_e3889_row0_col4, #T_e3889_row4_col0 {\n",
       "  background-color: #c5d6f2;\n",
       "  color: #000000;\n",
       "}\n",
       "#T_e3889_row1_col2, #T_e3889_row2_col1 {\n",
       "  background-color: #7da0f9;\n",
       "  color: #f1f1f1;\n",
       "}\n",
       "#T_e3889_row1_col3, #T_e3889_row3_col1 {\n",
       "  background-color: #6b8df0;\n",
       "  color: #f1f1f1;\n",
       "}\n",
       "#T_e3889_row1_col4, #T_e3889_row4_col1 {\n",
       "  background-color: #3b4cc0;\n",
       "  color: #f1f1f1;\n",
       "}\n",
       "#T_e3889_row2_col3, #T_e3889_row3_col2 {\n",
       "  background-color: #7b9ff9;\n",
       "  color: #f1f1f1;\n",
       "}\n",
       "#T_e3889_row2_col4, #T_e3889_row4_col2 {\n",
       "  background-color: #f2cbb7;\n",
       "  color: #000000;\n",
       "}\n",
       "#T_e3889_row3_col4, #T_e3889_row4_col3 {\n",
       "  background-color: #80a3fa;\n",
       "  color: #f1f1f1;\n",
       "}\n",
       "</style>\n",
       "<table id=\"T_e3889\">\n",
       "  <thead>\n",
       "    <tr>\n",
       "      <th class=\"blank level0\" >&nbsp;</th>\n",
       "      <th id=\"T_e3889_level0_col0\" class=\"col_heading level0 col0\" >Rooms</th>\n",
       "      <th id=\"T_e3889_level0_col1\" class=\"col_heading level0 col1\" >Price</th>\n",
       "      <th id=\"T_e3889_level0_col2\" class=\"col_heading level0 col2\" >Postcode</th>\n",
       "      <th id=\"T_e3889_level0_col3\" class=\"col_heading level0 col3\" >Propertycount</th>\n",
       "      <th id=\"T_e3889_level0_col4\" class=\"col_heading level0 col4\" >Distance</th>\n",
       "    </tr>\n",
       "  </thead>\n",
       "  <tbody>\n",
       "    <tr>\n",
       "      <th id=\"T_e3889_level0_row0\" class=\"row_heading level0 row0\" >Rooms</th>\n",
       "      <td id=\"T_e3889_row0_col0\" class=\"data row0 col0\" >1.00</td>\n",
       "      <td id=\"T_e3889_row0_col1\" class=\"data row0 col1\" >0.41</td>\n",
       "      <td id=\"T_e3889_row0_col2\" class=\"data row0 col2\" >0.09</td>\n",
       "      <td id=\"T_e3889_row0_col3\" class=\"data row0 col3\" >-0.05</td>\n",
       "      <td id=\"T_e3889_row0_col4\" class=\"data row0 col4\" >0.27</td>\n",
       "    </tr>\n",
       "    <tr>\n",
       "      <th id=\"T_e3889_level0_row1\" class=\"row_heading level0 row1\" >Price</th>\n",
       "      <td id=\"T_e3889_row1_col0\" class=\"data row1 col0\" >0.41</td>\n",
       "      <td id=\"T_e3889_row1_col1\" class=\"data row1 col1\" >1.00</td>\n",
       "      <td id=\"T_e3889_row1_col2\" class=\"data row1 col2\" >0.00</td>\n",
       "      <td id=\"T_e3889_row1_col3\" class=\"data row1 col3\" >-0.06</td>\n",
       "      <td id=\"T_e3889_row1_col4\" class=\"data row1 col4\" >-0.25</td>\n",
       "    </tr>\n",
       "    <tr>\n",
       "      <th id=\"T_e3889_level0_row2\" class=\"row_heading level0 row2\" >Postcode</th>\n",
       "      <td id=\"T_e3889_row2_col0\" class=\"data row2 col0\" >0.09</td>\n",
       "      <td id=\"T_e3889_row2_col1\" class=\"data row2 col1\" >0.00</td>\n",
       "      <td id=\"T_e3889_row2_col2\" class=\"data row2 col2\" >1.00</td>\n",
       "      <td id=\"T_e3889_row2_col3\" class=\"data row2 col3\" >-0.00</td>\n",
       "      <td id=\"T_e3889_row2_col4\" class=\"data row2 col4\" >0.50</td>\n",
       "    </tr>\n",
       "    <tr>\n",
       "      <th id=\"T_e3889_level0_row3\" class=\"row_heading level0 row3\" >Propertycount</th>\n",
       "      <td id=\"T_e3889_row3_col0\" class=\"data row3 col0\" >-0.05</td>\n",
       "      <td id=\"T_e3889_row3_col1\" class=\"data row3 col1\" >-0.06</td>\n",
       "      <td id=\"T_e3889_row3_col2\" class=\"data row3 col2\" >-0.00</td>\n",
       "      <td id=\"T_e3889_row3_col3\" class=\"data row3 col3\" >1.00</td>\n",
       "      <td id=\"T_e3889_row3_col4\" class=\"data row3 col4\" >0.01</td>\n",
       "    </tr>\n",
       "    <tr>\n",
       "      <th id=\"T_e3889_level0_row4\" class=\"row_heading level0 row4\" >Distance</th>\n",
       "      <td id=\"T_e3889_row4_col0\" class=\"data row4 col0\" >0.27</td>\n",
       "      <td id=\"T_e3889_row4_col1\" class=\"data row4 col1\" >-0.25</td>\n",
       "      <td id=\"T_e3889_row4_col2\" class=\"data row4 col2\" >0.50</td>\n",
       "      <td id=\"T_e3889_row4_col3\" class=\"data row4 col3\" >0.01</td>\n",
       "      <td id=\"T_e3889_row4_col4\" class=\"data row4 col4\" >1.00</td>\n",
       "    </tr>\n",
       "  </tbody>\n",
       "</table>\n"
      ],
      "text/plain": [
       "<pandas.io.formats.style.Styler at 0x1f068a7e7c0>"
      ]
     },
     "execution_count": 3,
     "metadata": {},
     "output_type": "execute_result"
    }
   ],
   "source": [
    "houseCorrelations = df.corr(method='pearson')\n",
    "houseCorrelations.style.background_gradient(cmap='coolwarm', axis=None).set_precision(2)"
   ]
  },
  {
   "cell_type": "markdown",
   "metadata": {},
   "source": [
    "I expected distance to the business district and price to correlate negatively, I did expect a stronger correlation"
   ]
  },
  {
   "cell_type": "code",
   "execution_count": 4,
   "metadata": {},
   "outputs": [
    {
     "data": {
      "text/html": [
       "<div>\n",
       "<style scoped>\n",
       "    .dataframe tbody tr th:only-of-type {\n",
       "        vertical-align: middle;\n",
       "    }\n",
       "\n",
       "    .dataframe tbody tr th {\n",
       "        vertical-align: top;\n",
       "    }\n",
       "\n",
       "    .dataframe thead th {\n",
       "        text-align: right;\n",
       "    }\n",
       "</style>\n",
       "<table border=\"1\" class=\"dataframe\">\n",
       "  <thead>\n",
       "    <tr style=\"text-align: right;\">\n",
       "      <th></th>\n",
       "      <th>Price</th>\n",
       "      <th>Distance</th>\n",
       "    </tr>\n",
       "  </thead>\n",
       "  <tbody>\n",
       "    <tr>\n",
       "      <th>Price</th>\n",
       "      <td>1.000000</td>\n",
       "      <td>-0.253668</td>\n",
       "    </tr>\n",
       "    <tr>\n",
       "      <th>Distance</th>\n",
       "      <td>-0.253668</td>\n",
       "      <td>1.000000</td>\n",
       "    </tr>\n",
       "  </tbody>\n",
       "</table>\n",
       "</div>"
      ],
      "text/plain": [
       "             Price  Distance\n",
       "Price     1.000000 -0.253668\n",
       "Distance -0.253668  1.000000"
      ]
     },
     "execution_count": 4,
     "metadata": {},
     "output_type": "execute_result"
    }
   ],
   "source": [
    "correlation = df[['Price','Distance']]\n",
    "correlation.corr()"
   ]
  },
  {
   "cell_type": "code",
   "execution_count": 5,
   "metadata": {},
   "outputs": [
    {
     "data": {
      "text/plain": [
       "<AxesSubplot:xlabel='Distance', ylabel='Price'>"
      ]
     },
     "execution_count": 5,
     "metadata": {},
     "output_type": "execute_result"
    },
    {
     "data": {
      "image/png": "[encoded data removed]",
      "text/plain": [
       "<Figure size 432x288 with 1 Axes>"
      ]
     },
     "metadata": {},
     "output_type": "display_data"
    }
   ],
   "source": [
    "df.plot(kind='scatter', x='Distance',y='Price')"
   ]
  },
  {
   "cell_type": "markdown",
   "metadata": {},
   "source": [
    "The scatter plot shows the negative correlation very well."
   ]
  }
 ],
 "metadata": {
  "interpreter": {
   "hash": "dade5c64266412dac4e485e5d511f19ec86909a3f4b4bbd7c64cf788437fc9ff"
  },
  "kernelspec": {
   "display_name": "Python 3.9.7 ('base')",
   "language": "python",
   "name": "python3"
  },
  "language_info": {
   "codemirror_mode": {
    "name": "ipython",
    "version": 3
   },
   "file_extension": ".py",
   "mimetype": "text/x-python",
   "name": "python",
   "nbconvert_exporter": "python",
   "pygments_lexer": "ipython3",
   "version": "3.9.7"
  },
  "orig_nbformat": 4
 },
 "nbformat": 4,
 "nbformat_minor": 2
}
