{
 "cells": [
  {
   "cell_type": "markdown",
   "metadata": {},
   "source": [
    "# Univariate analysis on 2 categorical columns and 2 numerical columns of my own dataset"
   ]
  },
  {
   "cell_type": "code",
   "execution_count": 1,
   "metadata": {},
   "outputs": [],
   "source": [
    "import pandas as pd"
   ]
  },
  {
   "cell_type": "code",
   "execution_count": 2,
   "metadata": {},
   "outputs": [],
   "source": [
    "import seaborn as sns\n",
    "sns.set_style(\"dark\")"
   ]
  },
  {
   "cell_type": "markdown",
   "metadata": {},
   "source": [
    "Steam data set is a dataset with data from the digital games store \"Steam\"."
   ]
  },
  {
   "cell_type": "code",
   "execution_count": 3,
   "metadata": {},
   "outputs": [],
   "source": [
    "df = pd.read_csv('steam.csv', sep=',')"
   ]
  },
  {
   "cell_type": "code",
   "execution_count": 4,
   "metadata": {},
   "outputs": [],
   "source": [
    "df.pop('appid')\n",
    "# Convert english too boolean\n",
    "df['english'] = df['english'].astype('bool')\n",
    "# set release date to datetime\n",
    "df['release_date'] = pd.to_datetime(df['release_date'])\n",
    "# create 3 seperate platform fields instead of 1\n",
    "df['windows'], df['mac'], df['linux'] = df['platforms'].apply(lambda x: 'windows' in x),df['platforms'].apply(lambda x: 'mac' in x),df['platforms'].apply(lambda x: 'linux' in x)\n",
    "# Split owners categorical value in two numerical values\n",
    "df['owners_low'] = df['owners'].apply(lambda x: x.split('-')[0]).astype('int')\n",
    "df['owners_high'] = df['owners'].apply(lambda x: x.split('-')[1]).astype('int')\n",
    "# Create int out of data column\n",
    "df['release_year'] = df['release_date'].dt.year\n",
    "genres = df['genres'].apply(lambda x: x.split(';')[0])"
   ]
  },
  {
   "cell_type": "code",
   "execution_count": 5,
   "metadata": {},
   "outputs": [
    {
     "name": "stdout",
     "output_type": "stream",
     "text": [
      "<class 'pandas.core.frame.DataFrame'>\n",
      "RangeIndex: 27075 entries, 0 to 27074\n",
      "Data columns (total 23 columns):\n",
      " #   Column            Non-Null Count  Dtype         \n",
      "---  ------            --------------  -----         \n",
      " 0   name              27075 non-null  object        \n",
      " 1   release_date      27075 non-null  datetime64[ns]\n",
      " 2   english           27075 non-null  bool          \n",
      " 3   developer         27075 non-null  object        \n",
      " 4   publisher         27075 non-null  object        \n",
      " 5   platforms         27075 non-null  object        \n",
      " 6   required_age      27075 non-null  int64         \n",
      " 7   categories        27075 non-null  object        \n",
      " 8   genres            27075 non-null  object        \n",
      " 9   steamspy_tags     27075 non-null  object        \n",
      " 10  achievements      27075 non-null  int64         \n",
      " 11  positive_ratings  27075 non-null  int64         \n",
      " 12  negative_ratings  27075 non-null  int64         \n",
      " 13  average_playtime  27075 non-null  int64         \n",
      " 14  median_playtime   27075 non-null  int64         \n",
      " 15  owners            27075 non-null  object        \n",
      " 16  price             27075 non-null  float64       \n",
      " 17  windows           27075 non-null  bool          \n",
      " 18  mac               27075 non-null  bool          \n",
      " 19  linux             27075 non-null  bool          \n",
      " 20  owners_low        27075 non-null  int32         \n",
      " 21  owners_high       27075 non-null  int32         \n",
      " 22  release_year      27075 non-null  int64         \n",
      "dtypes: bool(4), datetime64[ns](1), float64(1), int32(2), int64(7), object(8)\n",
      "memory usage: 3.8+ MB\n"
     ]
    }
   ],
   "source": [
    "df.info()"
   ]
  },
  {
   "cell_type": "markdown",
   "metadata": {},
   "source": [
    "The median and owners filter are to make sure that games that nobody playes are excluded to get a more accurate representation of games"
   ]
  },
  {
   "cell_type": "code",
   "execution_count": 6,
   "metadata": {},
   "outputs": [],
   "source": [
    "medianPlaytimeFilter = df['median_playtime']> 0.5\n",
    "ownersFilter = df['owners_low'] > 20000 #lowest range above 0\n",
    "noFreeGameFilter = df['price'] > 0.1\n",
    "reviewFilter = df['positive_ratings'] > 5"
   ]
  },
  {
   "cell_type": "markdown",
   "metadata": {},
   "source": [
    "Boxplot doesn't work, as a lot of games are free"
   ]
  },
  {
   "cell_type": "code",
   "execution_count": 7,
   "metadata": {},
   "outputs": [
    {
     "data": {
      "text/plain": [
       "<AxesSubplot:>"
      ]
     },
     "execution_count": 7,
     "metadata": {},
     "output_type": "execute_result"
    },
    {
     "data": {
      "image/png": "[encoded data removed]",
      "text/plain": [
       "<Figure size 432x288 with 1 Axes>"
      ]
     },
     "metadata": {},
     "output_type": "display_data"
    }
   ],
   "source": [
    "df['price'][ownersFilter][reviewFilter][medianPlaytimeFilter].plot(kind='box')"
   ]
  },
  {
   "cell_type": "markdown",
   "metadata": {},
   "source": [
    "Filter out the free games"
   ]
  },
  {
   "cell_type": "code",
   "execution_count": 8,
   "metadata": {},
   "outputs": [
    {
     "name": "stderr",
     "output_type": "stream",
     "text": [
      "C:\\Users\\Stijn\\AppData\\Local\\Temp/ipykernel_9580/1341901083.py:1: UserWarning: Boolean Series key will be reindexed to match DataFrame index.\n",
      "  df[noFreeGameFilter][ownersFilter][reviewFilter][medianPlaytimeFilter]['price'].plot(kind='box')\n"
     ]
    },
    {
     "data": {
      "text/plain": [
       "<AxesSubplot:>"
      ]
     },
     "execution_count": 8,
     "metadata": {},
     "output_type": "execute_result"
    },
    {
     "data": {
      "image/png": "[encoded data removed]",
      "text/plain": [
       "<Figure size 432x288 with 1 Axes>"
      ]
     },
     "metadata": {},
     "output_type": "display_data"
    }
   ],
   "source": [
    "\n",
    "df[noFreeGameFilter][ownersFilter][reviewFilter][medianPlaytimeFilter]['price'].plot(kind='box')"
   ]
  },
  {
   "cell_type": "markdown",
   "metadata": {},
   "source": [
    "Seems there are also a lot of cheap games"
   ]
  },
  {
   "cell_type": "markdown",
   "metadata": {},
   "source": [
    "# Games that are played the most hours (median)"
   ]
  },
  {
   "cell_type": "code",
   "execution_count": 12,
   "metadata": {},
   "outputs": [
    {
     "name": "stderr",
     "output_type": "stream",
     "text": [
      "C:\\Users\\Stijn\\AppData\\Local\\Temp/ipykernel_9580/3032881917.py:1: UserWarning: Boolean Series key will be reindexed to match DataFrame index.\n",
      "  df[ownersFilter][medianPlaytimeFilter][reviewFilter][['name','median_playtime','average_playtime','owners']].sort_values('median_playtime',ascending=False).head(10)\n"
     ]
    },
    {
     "data": {
      "text/html": [
       "<div>\n",
       "<style scoped>\n",
       "    .dataframe tbody tr th:only-of-type {\n",
       "        vertical-align: middle;\n",
       "    }\n",
       "\n",
       "    .dataframe tbody tr th {\n",
       "        vertical-align: top;\n",
       "    }\n",
       "\n",
       "    .dataframe thead th {\n",
       "        text-align: right;\n",
       "    }\n",
       "</style>\n",
       "<table border=\"1\" class=\"dataframe\">\n",
       "  <thead>\n",
       "    <tr style=\"text-align: right;\">\n",
       "      <th></th>\n",
       "      <th>name</th>\n",
       "      <th>median_playtime</th>\n",
       "      <th>average_playtime</th>\n",
       "      <th>owners</th>\n",
       "    </tr>\n",
       "  </thead>\n",
       "  <tbody>\n",
       "    <tr>\n",
       "      <th>9201</th>\n",
       "      <td>The Abbey of Crime Extensum</td>\n",
       "      <td>190625</td>\n",
       "      <td>190625</td>\n",
       "      <td>50000-100000</td>\n",
       "    </tr>\n",
       "    <tr>\n",
       "      <th>1478</th>\n",
       "      <td>The Banner Saga: Factions</td>\n",
       "      <td>190489</td>\n",
       "      <td>95245</td>\n",
       "      <td>200000-500000</td>\n",
       "    </tr>\n",
       "    <tr>\n",
       "      <th>6014</th>\n",
       "      <td>The Secret of Tremendous Corporation</td>\n",
       "      <td>190445</td>\n",
       "      <td>95242</td>\n",
       "      <td>100000-200000</td>\n",
       "    </tr>\n",
       "    <tr>\n",
       "      <th>8969</th>\n",
       "      <td>PRICE</td>\n",
       "      <td>63490</td>\n",
       "      <td>63481</td>\n",
       "      <td>200000-500000</td>\n",
       "    </tr>\n",
       "    <tr>\n",
       "      <th>3969</th>\n",
       "      <td>Shroud of the Avatar: Forsaken Virtues</td>\n",
       "      <td>54618</td>\n",
       "      <td>54618</td>\n",
       "      <td>50000-100000</td>\n",
       "    </tr>\n",
       "    <tr>\n",
       "      <th>2435</th>\n",
       "      <td>X-Plane 11</td>\n",
       "      <td>44169</td>\n",
       "      <td>44169</td>\n",
       "      <td>100000-200000</td>\n",
       "    </tr>\n",
       "    <tr>\n",
       "      <th>12195</th>\n",
       "      <td>The Price of Freedom</td>\n",
       "      <td>36029</td>\n",
       "      <td>36029</td>\n",
       "      <td>50000-100000</td>\n",
       "    </tr>\n",
       "    <tr>\n",
       "      <th>8796</th>\n",
       "      <td>MANDAGON</td>\n",
       "      <td>31845</td>\n",
       "      <td>21233</td>\n",
       "      <td>200000-500000</td>\n",
       "    </tr>\n",
       "    <tr>\n",
       "      <th>2737</th>\n",
       "      <td>Heroine's Quest: The Herald of Ragnarok</td>\n",
       "      <td>31835</td>\n",
       "      <td>21247</td>\n",
       "      <td>500000-1000000</td>\n",
       "    </tr>\n",
       "    <tr>\n",
       "      <th>3152</th>\n",
       "      <td>The Desolate Hope</td>\n",
       "      <td>31751</td>\n",
       "      <td>21168</td>\n",
       "      <td>200000-500000</td>\n",
       "    </tr>\n",
       "  </tbody>\n",
       "</table>\n",
       "</div>"
      ],
      "text/plain": [
       "                                          name  median_playtime  \\\n",
       "9201               The Abbey of Crime Extensum           190625   \n",
       "1478                 The Banner Saga: Factions           190489   \n",
       "6014      The Secret of Tremendous Corporation           190445   \n",
       "8969                                     PRICE            63490   \n",
       "3969    Shroud of the Avatar: Forsaken Virtues            54618   \n",
       "2435                                X-Plane 11            44169   \n",
       "12195                     The Price of Freedom            36029   \n",
       "8796                                  MANDAGON            31845   \n",
       "2737   Heroine's Quest: The Herald of Ragnarok            31835   \n",
       "3152                         The Desolate Hope            31751   \n",
       "\n",
       "       average_playtime          owners  \n",
       "9201             190625    50000-100000  \n",
       "1478              95245   200000-500000  \n",
       "6014              95242   100000-200000  \n",
       "8969              63481   200000-500000  \n",
       "3969              54618    50000-100000  \n",
       "2435              44169   100000-200000  \n",
       "12195             36029    50000-100000  \n",
       "8796              21233   200000-500000  \n",
       "2737              21247  500000-1000000  \n",
       "3152              21168   200000-500000  "
      ]
     },
     "execution_count": 12,
     "metadata": {},
     "output_type": "execute_result"
    }
   ],
   "source": [
    "df[ownersFilter][medianPlaytimeFilter][reviewFilter][['name','median_playtime','average_playtime','owners']].sort_values('median_playtime',ascending=False).head(10)"
   ]
  },
  {
   "cell_type": "markdown",
   "metadata": {},
   "source": [
    "# Release year of a game"
   ]
  },
  {
   "cell_type": "code",
   "execution_count": 13,
   "metadata": {},
   "outputs": [
    {
     "data": {
      "text/plain": [
       "<AxesSubplot:>"
      ]
     },
     "execution_count": 13,
     "metadata": {},
     "output_type": "execute_result"
    },
    {
     "data": {
      "image/png": "[encoded data removed]",
      "text/plain": [
       "<Figure size 432x288 with 1 Axes>"
      ]
     },
     "metadata": {},
     "output_type": "display_data"
    }
   ],
   "source": [
    "df['release_date'].dt.year.plot(kind='box')"
   ]
  },
  {
   "cell_type": "markdown",
   "metadata": {},
   "source": [
    "Boxplot has many outliers, but why?"
   ]
  },
  {
   "cell_type": "markdown",
   "metadata": {},
   "source": [
    "The lower values are due to Valves own games and the few games that were allowed on early that were quite rare"
   ]
  },
  {
   "cell_type": "code",
   "execution_count": 14,
   "metadata": {},
   "outputs": [
    {
     "data": {
      "text/html": [
       "<div>\n",
       "<style scoped>\n",
       "    .dataframe tbody tr th:only-of-type {\n",
       "        vertical-align: middle;\n",
       "    }\n",
       "\n",
       "    .dataframe tbody tr th {\n",
       "        vertical-align: top;\n",
       "    }\n",
       "\n",
       "    .dataframe thead th {\n",
       "        text-align: right;\n",
       "    }\n",
       "</style>\n",
       "<table border=\"1\" class=\"dataframe\">\n",
       "  <thead>\n",
       "    <tr style=\"text-align: right;\">\n",
       "      <th></th>\n",
       "      <th>name</th>\n",
       "      <th>release_date</th>\n",
       "      <th>english</th>\n",
       "      <th>developer</th>\n",
       "      <th>publisher</th>\n",
       "      <th>platforms</th>\n",
       "      <th>required_age</th>\n",
       "      <th>categories</th>\n",
       "      <th>genres</th>\n",
       "      <th>steamspy_tags</th>\n",
       "      <th>...</th>\n",
       "      <th>average_playtime</th>\n",
       "      <th>median_playtime</th>\n",
       "      <th>owners</th>\n",
       "      <th>price</th>\n",
       "      <th>windows</th>\n",
       "      <th>mac</th>\n",
       "      <th>linux</th>\n",
       "      <th>owners_low</th>\n",
       "      <th>owners_high</th>\n",
       "      <th>release_year</th>\n",
       "    </tr>\n",
       "  </thead>\n",
       "  <tbody>\n",
       "    <tr>\n",
       "      <th>2685</th>\n",
       "      <td>Carmageddon Max Pack</td>\n",
       "      <td>1997-06-30</td>\n",
       "      <td>True</td>\n",
       "      <td>Stainless Games Ltd</td>\n",
       "      <td>THQ Nordic</td>\n",
       "      <td>windows</td>\n",
       "      <td>0</td>\n",
       "      <td>Single-player;Multi-player;Steam Trading Cards</td>\n",
       "      <td>Action;Indie;Racing</td>\n",
       "      <td>Racing;Action;Classic</td>\n",
       "      <td>...</td>\n",
       "      <td>13</td>\n",
       "      <td>13</td>\n",
       "      <td>50000-100000</td>\n",
       "      <td>5.99</td>\n",
       "      <td>True</td>\n",
       "      <td>False</td>\n",
       "      <td>False</td>\n",
       "      <td>50000</td>\n",
       "      <td>100000</td>\n",
       "      <td>1997</td>\n",
       "    </tr>\n",
       "    <tr>\n",
       "      <th>6</th>\n",
       "      <td>Half-Life</td>\n",
       "      <td>1998-11-08</td>\n",
       "      <td>True</td>\n",
       "      <td>Valve</td>\n",
       "      <td>Valve</td>\n",
       "      <td>windows;mac;linux</td>\n",
       "      <td>0</td>\n",
       "      <td>Single-player;Multi-player;Online Multi-Player...</td>\n",
       "      <td>Action</td>\n",
       "      <td>FPS;Classic;Action</td>\n",
       "      <td>...</td>\n",
       "      <td>1300</td>\n",
       "      <td>83</td>\n",
       "      <td>5000000-10000000</td>\n",
       "      <td>7.19</td>\n",
       "      <td>True</td>\n",
       "      <td>True</td>\n",
       "      <td>True</td>\n",
       "      <td>5000000</td>\n",
       "      <td>10000000</td>\n",
       "      <td>1998</td>\n",
       "    </tr>\n",
       "    <tr>\n",
       "      <th>1</th>\n",
       "      <td>Team Fortress Classic</td>\n",
       "      <td>1999-04-01</td>\n",
       "      <td>True</td>\n",
       "      <td>Valve</td>\n",
       "      <td>Valve</td>\n",
       "      <td>windows;mac;linux</td>\n",
       "      <td>0</td>\n",
       "      <td>Multi-player;Online Multi-Player;Local Multi-P...</td>\n",
       "      <td>Action</td>\n",
       "      <td>Action;FPS;Multiplayer</td>\n",
       "      <td>...</td>\n",
       "      <td>277</td>\n",
       "      <td>62</td>\n",
       "      <td>5000000-10000000</td>\n",
       "      <td>3.99</td>\n",
       "      <td>True</td>\n",
       "      <td>True</td>\n",
       "      <td>True</td>\n",
       "      <td>5000000</td>\n",
       "      <td>10000000</td>\n",
       "      <td>1999</td>\n",
       "    </tr>\n",
       "    <tr>\n",
       "      <th>4</th>\n",
       "      <td>Half-Life: Opposing Force</td>\n",
       "      <td>1999-11-01</td>\n",
       "      <td>True</td>\n",
       "      <td>Gearbox Software</td>\n",
       "      <td>Valve</td>\n",
       "      <td>windows;mac;linux</td>\n",
       "      <td>0</td>\n",
       "      <td>Single-player;Multi-player;Valve Anti-Cheat en...</td>\n",
       "      <td>Action</td>\n",
       "      <td>FPS;Action;Sci-fi</td>\n",
       "      <td>...</td>\n",
       "      <td>624</td>\n",
       "      <td>415</td>\n",
       "      <td>5000000-10000000</td>\n",
       "      <td>3.99</td>\n",
       "      <td>True</td>\n",
       "      <td>True</td>\n",
       "      <td>True</td>\n",
       "      <td>5000000</td>\n",
       "      <td>10000000</td>\n",
       "      <td>1999</td>\n",
       "    </tr>\n",
       "    <tr>\n",
       "      <th>5</th>\n",
       "      <td>Ricochet</td>\n",
       "      <td>2000-11-01</td>\n",
       "      <td>True</td>\n",
       "      <td>Valve</td>\n",
       "      <td>Valve</td>\n",
       "      <td>windows;mac;linux</td>\n",
       "      <td>0</td>\n",
       "      <td>Multi-player;Online Multi-Player;Valve Anti-Ch...</td>\n",
       "      <td>Action</td>\n",
       "      <td>Action;FPS;Multiplayer</td>\n",
       "      <td>...</td>\n",
       "      <td>175</td>\n",
       "      <td>10</td>\n",
       "      <td>5000000-10000000</td>\n",
       "      <td>3.99</td>\n",
       "      <td>True</td>\n",
       "      <td>True</td>\n",
       "      <td>True</td>\n",
       "      <td>5000000</td>\n",
       "      <td>10000000</td>\n",
       "      <td>2000</td>\n",
       "    </tr>\n",
       "  </tbody>\n",
       "</table>\n",
       "<p>5 rows × 23 columns</p>\n",
       "</div>"
      ],
      "text/plain": [
       "                           name release_date  english            developer  \\\n",
       "2685       Carmageddon Max Pack   1997-06-30     True  Stainless Games Ltd   \n",
       "6                     Half-Life   1998-11-08     True                Valve   \n",
       "1         Team Fortress Classic   1999-04-01     True                Valve   \n",
       "4     Half-Life: Opposing Force   1999-11-01     True     Gearbox Software   \n",
       "5                      Ricochet   2000-11-01     True                Valve   \n",
       "\n",
       "       publisher          platforms  required_age  \\\n",
       "2685  THQ Nordic            windows             0   \n",
       "6          Valve  windows;mac;linux             0   \n",
       "1          Valve  windows;mac;linux             0   \n",
       "4          Valve  windows;mac;linux             0   \n",
       "5          Valve  windows;mac;linux             0   \n",
       "\n",
       "                                             categories               genres  \\\n",
       "2685     Single-player;Multi-player;Steam Trading Cards  Action;Indie;Racing   \n",
       "6     Single-player;Multi-player;Online Multi-Player...               Action   \n",
       "1     Multi-player;Online Multi-Player;Local Multi-P...               Action   \n",
       "4     Single-player;Multi-player;Valve Anti-Cheat en...               Action   \n",
       "5     Multi-player;Online Multi-Player;Valve Anti-Ch...               Action   \n",
       "\n",
       "               steamspy_tags  ...  average_playtime  median_playtime  \\\n",
       "2685   Racing;Action;Classic  ...                13               13   \n",
       "6         FPS;Classic;Action  ...              1300               83   \n",
       "1     Action;FPS;Multiplayer  ...               277               62   \n",
       "4          FPS;Action;Sci-fi  ...               624              415   \n",
       "5     Action;FPS;Multiplayer  ...               175               10   \n",
       "\n",
       "                owners  price  windows    mac  linux  owners_low  owners_high  \\\n",
       "2685      50000-100000   5.99     True  False  False       50000       100000   \n",
       "6     5000000-10000000   7.19     True   True   True     5000000     10000000   \n",
       "1     5000000-10000000   3.99     True   True   True     5000000     10000000   \n",
       "4     5000000-10000000   3.99     True   True   True     5000000     10000000   \n",
       "5     5000000-10000000   3.99     True   True   True     5000000     10000000   \n",
       "\n",
       "      release_year  \n",
       "2685          1997  \n",
       "6             1998  \n",
       "1             1999  \n",
       "4             1999  \n",
       "5             2000  \n",
       "\n",
       "[5 rows x 23 columns]"
      ]
     },
     "execution_count": 14,
     "metadata": {},
     "output_type": "execute_result"
    }
   ],
   "source": [
    "df.sort_values(by='release_year').head(5)"
   ]
  },
  {
   "cell_type": "markdown",
   "metadata": {},
   "source": [
    "# Amount of games per year"
   ]
  },
  {
   "cell_type": "code",
   "execution_count": 15,
   "metadata": {},
   "outputs": [
    {
     "data": {
      "text/plain": [
       "<AxesSubplot:>"
      ]
     },
     "execution_count": 15,
     "metadata": {},
     "output_type": "execute_result"
    },
    {
     "data": {
      "image/png": "[encoded data removed]",
      "text/plain": [
       "<Figure size 432x288 with 1 Axes>"
      ]
     },
     "metadata": {},
     "output_type": "display_data"
    }
   ],
   "source": [
    "df['release_year'][df['positive_ratings'] > 5].value_counts().sort_values().plot(kind='bar')"
   ]
  },
  {
   "cell_type": "code",
   "execution_count": 18,
   "metadata": {},
   "outputs": [
    {
     "data": {
      "text/plain": [
       "Choice of Games               69\n",
       "KOEI TECMO GAMES CO., LTD.    61\n",
       "Ripknot Systems               42\n",
       "RewindApp                     38\n",
       "Humongous Entertainment       36\n",
       "Nikita \"Ghost_RUS\"            34\n",
       "For Kids                      32\n",
       "Hosted Games                  31\n",
       "EnsenaSoft                    31\n",
       "MumboJumbo                    29\n",
       "Name: developer, dtype: int64"
      ]
     },
     "execution_count": 18,
     "metadata": {},
     "output_type": "execute_result"
    }
   ],
   "source": [
    "df[reviewFilter]['developer'].value_counts().head(5)"
   ]
  },
  {
   "cell_type": "markdown",
   "metadata": {},
   "source": [
    "# Games per combination of platforms they support"
   ]
  },
  {
   "cell_type": "code",
   "execution_count": 23,
   "metadata": {},
   "outputs": [
    {
     "name": "stderr",
     "output_type": "stream",
     "text": [
      "C:\\Users\\Stijn\\AppData\\Local\\Temp/ipykernel_9580/2933264066.py:1: UserWarning: Boolean Series key will be reindexed to match DataFrame index.\n",
      "  df[ownersFilter][medianPlaytimeFilter]['platforms'].value_counts().sort_values().plot(kind='bar')\n"
     ]
    },
    {
     "data": {
      "text/plain": [
       "<AxesSubplot:>"
      ]
     },
     "execution_count": 23,
     "metadata": {},
     "output_type": "execute_result"
    },
    {
     "data": {
      "image/png": "[encoded data removed]",
      "text/plain": [
       "<Figure size 432x288 with 1 Axes>"
      ]
     },
     "metadata": {},
     "output_type": "display_data"
    }
   ],
   "source": [
    "df[ownersFilter][medianPlaytimeFilter]['platforms'].value_counts().sort_values().plot(kind='bar')"
   ]
  }
 ],
 "metadata": {
  "interpreter": {
   "hash": "dade5c64266412dac4e485e5d511f19ec86909a3f4b4bbd7c64cf788437fc9ff"
  },
  "kernelspec": {
   "display_name": "Python 3.9.7 ('base')",
   "language": "python",
   "name": "python3"
  },
  "language_info": {
   "codemirror_mode": {
    "name": "ipython",
    "version": 3
   },
   "file_extension": ".py",
   "mimetype": "text/x-python",
   "name": "python",
   "nbconvert_exporter": "python",
   "pygments_lexer": "ipython3",
   "version": "3.9.7"
  },
  "orig_nbformat": 4
 },
 "nbformat": 4,
 "nbformat_minor": 2
}
